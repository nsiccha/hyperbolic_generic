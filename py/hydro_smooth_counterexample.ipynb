{
 "cells": [
  {
   "cell_type": "markdown",
   "metadata": {},
   "source": [
    "[![Open In Colab](https://colab.research.google.com/assets/colab-badge.svg)](https://colab.research.google.com/github/nsiccha/hyperbolic_generic/blob/master/py/hydro_smooth_counterexample.ipynb)"
   ]
  },
  {
   "cell_type": "code",
   "execution_count": 1,
   "metadata": {
    "ExecuteTime": {
     "end_time": "2020-08-06T12:05:11.381572Z",
     "start_time": "2020-08-06T12:05:09.315334Z"
    }
   },
   "outputs": [
    {
     "name": "stdout",
     "output_type": "stream",
     "text": [
      "Requirement already satisfied: cached_property in /home/niko/miniconda3/lib/python3.6/site-packages (1.5.1)\r\n",
      "Requirement already satisfied: sympy==1.6 in /home/niko/miniconda3/lib/python3.6/site-packages (1.6)\r\n",
      "Requirement already satisfied: mpmath>=0.19 in /home/niko/miniconda3/lib/python3.6/site-packages (from sympy==1.6) (1.1.0)\r\n"
     ]
    }
   ],
   "source": [
    "import os\n",
    "if os.getcwd() == '/content': #On colab, init\n",
    "    !git clone https://github.com/nsiccha/hyperbolic_generic\n",
    "    %cd /content/hyperbolic_generic/py/\n",
    "!pip install cached_property sympy==1.6\n",
    "from base import *\n",
    "BasicExpr.math_env = 'aligned'\n",
    "BasicExpr.show_label = False\n",
    "from IPython.display import Markdown\n",
    "\n",
    "import hydro"
   ]
  },
  {
   "cell_type": "code",
   "execution_count": 2,
   "metadata": {
    "ExecuteTime": {
     "end_time": "2020-08-06T12:05:11.416066Z",
     "start_time": "2020-08-06T12:05:11.384161Z"
    }
   },
   "outputs": [
    {
     "data": {
      "text/markdown": [
       "# Jacobi Identity\n",
       "These are the n.a.s. conditions for a hydrodynamic bracket to be Poisson:"
      ],
      "text/plain": [
       "<IPython.core.display.Markdown object>"
      ]
     },
     "metadata": {},
     "output_type": "display_data"
    },
    {
     "data": {
      "text/latex": [
       "\n",
       "\\begin{aligned}0 &= {\\left[{g}^{\\mu, i, j}_{}\\right]}_{\\left[i, j\\right]}\\\\\n",
       "0 &= \\frac{\\partial {g}^{\\mu, i, j}_{}}{\\partial {u}^{k}_{}} + {-2}   {{\\left[{b}^{\\mu, i, j}_{k}\\right]}_{\\left(i, j\\right)}}\\\\\n",
       "0 &= {\\left[{\\left[{{g}^{\\mu, i, l}_{}}   {{b}^{\\nu, j, k}_{l}}\\right]}_{\\left[i, j\\right]}\\right]}_{\\left(\\mu, \\nu\\right)}\\\\\n",
       "0 &= {\\left[{\\left[{{g}^{\\mu, i, l}_{}}   {{b}^{\\nu, j, k}_{l}}\\right]}_{\\left[\\left(i, \\mu\\right), \\left(j, \\nu\\right)\\right]}\\right]}_{\\circlearrowright i, j, k}\\\\\n",
       "0 &= {\\left[{{g}^{\\mu, i, l}_{}}   {{\\left[\\frac{\\partial {b}^{\\nu, j, k}_{l}}{\\partial {u}^{m}_{}}\\right]}_{\\left[m, l\\right]}}-{\\left[{{b}^{\\nu, i, k}_{l}}   {{b}^{\\mu, l, j}_{m}}\\right]}_{\\left[j, k\\right]}\\right]}_{\\left(\\mu, \\nu\\right)}\\\\\n",
       "0 &= {\\left[{{g}^{\\mu, i, l}_{}}   {\\frac{\\partial {b}^{\\nu, j, k}_{m}}{\\partial {u}^{l}_{}}} + {{b}^{\\nu, j, i}_{l}}   {{b}^{\\mu, l, k}_{m}} + {{b}^{\\nu, j, k}_{l}}   {{b}^{\\mu, i, l}_{m}}\\right]}_{\\left[\\left(i, \\mu\\right), \\left(j, \\nu\\right)\\right]}\\\\\n",
       "0 &= {\\left[\\frac{\\partial}{\\partial {u}^{n}_{}}\\left({{g}^{\\mu, i, l}_{}}   {{\\left[\\frac{\\partial {b}^{\\nu, j, k}_{l}}{\\partial {u}^{m}_{}}\\right]}_{\\left[m, l\\right]}} + {\\left[{{b}^{\\mu, i, j}_{l}}   {{b}^{\\nu, l, k}_{m}}\\right]}_{\\left[j, k\\right]}\\right)-{\\left[{{b}^{\\mu, l, i}_{m}}   {{\\left[\\frac{\\partial {b}^{\\nu, j, k}_{l}}{\\partial {u}^{m}_{}}\\right]}_{\\left[m, l\\right]}}\\right]}_{\\circlearrowright i, j, k}\\right]}_{\\left(\\left(\\mu, n\\right), \\left(\\nu, l\\right)\\right)}\\end{aligned}\n"
      ],
      "text/plain": [
       "Relations(Eq(0, ASymm(SupSub(MyTensor(g, 3, 0), (mu, i, j), ()), i, j)), Eq(0, MyAdd(PDiff(SupSub(MyTensor(g, 3, 0), (mu, i, j), ()), SupSub(MyTensor(u, 1, 0), (k,), ())), MyMul(-2, Symm(SupSub(MyTensor(b, 3, 1), (mu, i, j), (k,)), i, j)))), Eq(0, Symm(ASymm(MyMul(SupSub(MyTensor(g, 3, 0), (mu, i, l), ()), SupSub(MyTensor(b, 3, 1), (nu, j, k), (l,))), i, j), mu, nu)), Eq(0, Cycler(ASymm(MyMul(SupSub(MyTensor(g, 3, 0), (mu, i, l), ()), SupSub(MyTensor(b, 3, 1), (nu, j, k), (l,))), MyTuple(i, mu), MyTuple(j, nu)), i, j, k)), Eq(0, Symm(Protect(MyAdd(MyMul(SupSub(MyTensor(g, 3, 0), (mu, i, l), ()), ASymm(PDiff(SupSub(MyTensor(b, 3, 1), (nu, j, k), (l,)), SupSub(MyTensor(u, 1, 0), (m,), ())), m, l)), Negative(ASymm(MyMul(SupSub(MyTensor(b, 3, 1), (nu, i, k), (l,)), SupSub(MyTensor(b, 3, 1), (mu, l, j), (m,))), j, k)))), mu, nu)), Eq(0, ASymm(Protect(MyAdd(MyMul(SupSub(MyTensor(g, 3, 0), (mu, i, l), ()), PDiff(SupSub(MyTensor(b, 3, 1), (nu, j, k), (m,)), SupSub(MyTensor(u, 1, 0), (l,), ()))), MyMul(SupSub(MyTensor(b, 3, 1), (nu, j, i), (l,)), SupSub(MyTensor(b, 3, 1), (mu, l, k), (m,))), MyMul(SupSub(MyTensor(b, 3, 1), (nu, j, k), (l,)), SupSub(MyTensor(b, 3, 1), (mu, i, l), (m,))))), MyTuple(i, mu), MyTuple(j, nu))), Eq(0, Symm(Protect(MyAdd(PDiff(MyAdd(MyMul(SupSub(MyTensor(g, 3, 0), (mu, i, l), ()), ASymm(PDiff(SupSub(MyTensor(b, 3, 1), (nu, j, k), (l,)), SupSub(MyTensor(u, 1, 0), (m,), ())), m, l)), ASymm(MyMul(SupSub(MyTensor(b, 3, 1), (mu, i, j), (l,)), SupSub(MyTensor(b, 3, 1), (nu, l, k), (m,))), j, k)), SupSub(MyTensor(u, 1, 0), (n,), ())), Negative(Cycler(MyMul(SupSub(MyTensor(b, 3, 1), (mu, l, i), (m,)), ASymm(PDiff(SupSub(MyTensor(b, 3, 1), (nu, j, k), (l,)), SupSub(MyTensor(u, 1, 0), (m,), ())), m, l)), i, j, k)))), MyTuple(mu, n), MyTuple(nu, l))))"
      ]
     },
     "metadata": {},
     "output_type": "display_data"
    }
   ],
   "source": [
    "display(Markdown(\"# Jacobi Identity\\nThese are the n.a.s. conditions for a hydrodynamic bracket to be Poisson:\"))\n",
    "display(hydro.jacobi_eqs)"
   ]
  },
  {
   "cell_type": "code",
   "execution_count": 9,
   "metadata": {
    "ExecuteTime": {
     "end_time": "2020-08-06T12:08:07.957673Z",
     "start_time": "2020-08-06T12:08:07.931744Z"
    }
   },
   "outputs": [
    {
     "data": {
      "text/markdown": [
       "# Common to all"
      ],
      "text/plain": [
       "<IPython.core.display.Markdown object>"
      ]
     },
     "metadata": {},
     "output_type": "display_data"
    },
    {
     "data": {
      "text/latex": [
       "$\\displaystyle {g}^{\\mu, i, j}_{} \\rightarrow {g}^{i, j}_{}, {b}^{\\mu, i, j}_{k} \\rightarrow {b}^{i, j}_{k}, {g}^{1, 2}_{} \\rightarrow 0, {g}^{2, 1}_{} \\rightarrow 0, {b}^{2, 1}_{i} \\rightarrow -{b}^{1, 2}_{i}, \\frac{\\partial {g}^{i, i}_{}}{\\partial {u}^{j}_{}} \\rightarrow {2}   {{b}^{i, i}_{j}}, {b}^{i, j}_{k} \\rightarrow \\frac{\\partial {b}^{i, j}_{}}{\\partial {u}^{k}_{}}$"
      ],
      "text/plain": [
       "Rep({PDiff(SupSub(MyTensor(g, 2, 0), (i_, i_), ()), SupSub(MyTensor(u, 1, 0), (j_,), ())): MyMul(2, SupSub(MyTensor(b, 2, 1), (i_, i_), (j_,))), SupSub(MyTensor(b, 2, 1), (2, 1), (i_,)): Negative(SupSub(MyTensor(b, 2, 1), (1, 2), (i_,))), SupSub(MyTensor(b, 2, 1), (i_, j_), (k_,)): PDiff(SupSub(MyTensor(b, 2, 1), (i_, j_), ()), SupSub(MyTensor(u, 1, 0), (k_,), ())), SupSub(MyTensor(b, 3, 1), (mu_, i_, j_), (k_,)): SupSub(MyTensor(b, 2, 1), (i_, j_), (k_,)), SupSub(MyTensor(g, 2, 0), (1, 2), ()): 0, SupSub(MyTensor(g, 2, 0), (2, 1), ()): 0, SupSub(MyTensor(g, 3, 0), (mu_, i_, j_), ()): SupSub(MyTensor(g, 2, 0), (i_, j_), ())})"
      ]
     },
     "metadata": {},
     "output_type": "display_data"
    },
    {
     "data": {
      "text/markdown": [
       "# Ansatzes\n",
       "These are the two families of brackets from the proof."
      ],
      "text/plain": [
       "<IPython.core.display.Markdown object>"
      ]
     },
     "metadata": {},
     "output_type": "display_data"
    },
    {
     "data": {
      "text/latex": [
       "$\\displaystyle {g}^{2, 2}_{} \\rightarrow 0, {b}^{2, 2}_{} \\rightarrow 0, {b}^{1, 2}_{} \\rightarrow 0$"
      ],
      "text/plain": [
       "Rep({SupSub(MyTensor(b, 2, 1), (1, 2), ()): 0, SupSub(MyTensor(b, 2, 1), (2, 2), ()): 0, SupSub(MyTensor(g, 2, 0), (2, 2), ()): 0})"
      ]
     },
     "metadata": {},
     "output_type": "display_data"
    },
    {
     "data": {
      "text/latex": [
       "$\\displaystyle {g}^{2, 2}_{} \\rightarrow -{g}^{1, 1}_{}, {b}^{2, 2}_{} \\rightarrow -{b}^{1, 1}_{}, {b}^{1, 2}_{} \\rightarrow {b}^{1, 1}_{}, \\frac{\\partial {b}^{1, 1}_{}}{\\partial {u}^{i}_{}} \\rightarrow \\frac{\\partial {b}^{1, 1}_{}}{\\partial {u}^{1}_{}}, \\frac{\\partial^{2} {b}^{1, 1}_{}}{\\partial {u}^{i}_{} \\partial {u}^{j}_{}} \\rightarrow \\frac{\\partial^{2} {b}^{1, 1}_{}}{\\partial {u}^{1}_{} \\partial {u}^{1}_{}}$"
      ],
      "text/plain": [
       "Rep({PDiff(SupSub(MyTensor(b, 2, 1), (1, 1), ()), SupSub(MyTensor(u, 1, 0), (i_,), ())): PDiff(SupSub(MyTensor(b, 2, 1), (1, 1), ()), SupSub(MyTensor(u, 1, 0), (1,), ())), PDiff(SupSub(MyTensor(b, 2, 1), (1, 1), ()), SupSub(MyTensor(u, 1, 0), (i_,), ()), SupSub(MyTensor(u, 1, 0), (j_,), ())): PDiff(SupSub(MyTensor(b, 2, 1), (1, 1), ()), SupSub(MyTensor(u, 1, 0), (1,), ()), SupSub(MyTensor(u, 1, 0), (1,), ())), SupSub(MyTensor(b, 2, 1), (1, 2), ()): SupSub(MyTensor(b, 2, 1), (1, 1), ()), SupSub(MyTensor(b, 2, 1), (2, 2), ()): Negative(SupSub(MyTensor(b, 2, 1), (1, 1), ())), SupSub(MyTensor(g, 2, 0), (2, 2), ()): Negative(SupSub(MyTensor(g, 2, 0), (1, 1), ()))})"
      ]
     },
     "metadata": {},
     "output_type": "display_data"
    }
   ],
   "source": [
    "mu_, i_, j_, k_, l_ = Wild.symbols('mu i j k l')\n",
    "common = {\n",
    "    g[mu_, i_, j_]: g1[i_, j_],\n",
    "    b[mu_, i_, j_, k_]: b1[i_, j_, k_],\n",
    "    g1[1,2]: 0, g1[2,1]: 0, b1[2,1,i_]:-b1[1,2,i_],\n",
    "    g1[i_,i_].d(u[j_]): 2*b1[i_,i_,j_],\n",
    "    b1[i_,j_,k_]: b1[i_,j_].d(u[k_])\n",
    "}\n",
    "ansatzes = {\n",
    "    g1[2,2]: 0, b1[2,2]: 0, b1[1,2]: 0\n",
    "}, {\n",
    "    g1[2,2]: -g1[1,1], b1[2,2]: -b1[1,1], b1[1,2]: b1[1,1], \n",
    "    b1[1,1].d(u[i_]): b1[1,1].d(u[1]), b1[1,1].d(u[i_], u[j_]): b1[1,1].d(u[1], u[1]),\n",
    "}\n",
    "display(Markdown('# Common to all'))\n",
    "display(Rep(common))\n",
    "display(Markdown('# Ansatzes\\nThese are the two families of brackets from the proof.'))\n",
    "display(Rep(ansatzes[0]))\n",
    "display(Rep(ansatzes[1]))"
   ]
  },
  {
   "cell_type": "code",
   "execution_count": 11,
   "metadata": {
    "ExecuteTime": {
     "end_time": "2020-08-06T12:08:59.660774Z",
     "start_time": "2020-08-06T12:08:59.565247Z"
    }
   },
   "outputs": [
    {
     "data": {
      "text/markdown": [
       "## Ansatz 1\n",
       "Inserting the following ansatz:"
      ],
      "text/plain": [
       "<IPython.core.display.Markdown object>"
      ]
     },
     "metadata": {},
     "output_type": "display_data"
    },
    {
     "data": {
      "text/latex": [
       "$\\displaystyle {g}^{\\mu, i, j}_{} \\rightarrow {g}^{i, j}_{}, {b}^{\\mu, i, j}_{k} \\rightarrow {b}^{i, j}_{k}, {g}^{1, 2}_{} \\rightarrow 0, {g}^{2, 1}_{} \\rightarrow 0, {b}^{2, 1}_{i} \\rightarrow -{b}^{1, 2}_{i}, \\frac{\\partial {g}^{i, i}_{}}{\\partial {u}^{j}_{}} \\rightarrow {2}   {{b}^{i, i}_{j}}, {b}^{i, j}_{k} \\rightarrow \\frac{\\partial {b}^{i, j}_{}}{\\partial {u}^{k}_{}}$"
      ],
      "text/plain": [
       "Rep({PDiff(SupSub(MyTensor(g, 2, 0), (i_, i_), ()), SupSub(MyTensor(u, 1, 0), (j_,), ())): MyMul(2, SupSub(MyTensor(b, 2, 1), (i_, i_), (j_,))), SupSub(MyTensor(b, 2, 1), (2, 1), (i_,)): Negative(SupSub(MyTensor(b, 2, 1), (1, 2), (i_,))), SupSub(MyTensor(b, 2, 1), (i_, j_), (k_,)): PDiff(SupSub(MyTensor(b, 2, 1), (i_, j_), ()), SupSub(MyTensor(u, 1, 0), (k_,), ())), SupSub(MyTensor(b, 3, 1), (mu_, i_, j_), (k_,)): SupSub(MyTensor(b, 2, 1), (i_, j_), (k_,)), SupSub(MyTensor(g, 2, 0), (1, 2), ()): 0, SupSub(MyTensor(g, 2, 0), (2, 1), ()): 0, SupSub(MyTensor(g, 3, 0), (mu_, i_, j_), ()): SupSub(MyTensor(g, 2, 0), (i_, j_), ())})"
      ]
     },
     "metadata": {},
     "output_type": "display_data"
    },
    {
     "data": {
      "text/latex": [
       "$\\displaystyle {g}^{2, 2}_{} \\rightarrow 0, {b}^{2, 2}_{} \\rightarrow 0, {b}^{1, 2}_{} \\rightarrow 0$"
      ],
      "text/plain": [
       "Rep({SupSub(MyTensor(b, 2, 1), (1, 2), ()): 0, SupSub(MyTensor(b, 2, 1), (2, 2), ()): 0, SupSub(MyTensor(g, 2, 0), (2, 2), ()): 0})"
      ]
     },
     "metadata": {},
     "output_type": "display_data"
    },
    {
     "data": {
      "text/markdown": [
       "### Ansatz 1, Equation 1"
      ],
      "text/plain": [
       "<IPython.core.display.Markdown object>"
      ]
     },
     "metadata": {},
     "output_type": "display_data"
    },
    {
     "data": {
      "text/latex": [
       "$\\displaystyle {{\\left[{g}^{\\mu, i, j}_{}\\right]}_{\\left[i, j\\right]}} = {{\\frac{1}{2}}   {\\left({g}^{\\mu, i, j}_{}-{g}^{\\mu, j, i}_{}\\right)}} = {\\begin{bmatrix}\\begin{bmatrix}0&0\\\\0&0\\end{bmatrix}&\\begin{bmatrix}0&0\\\\0&0\\end{bmatrix}\\\\\\begin{bmatrix}0&0\\\\0&0\\end{bmatrix}&\\begin{bmatrix}0&0\\\\0&0\\end{bmatrix}\\end{bmatrix}} = {\\begin{bmatrix}\\begin{bmatrix}0&0\\\\0&0\\end{bmatrix}&\\begin{bmatrix}0&0\\\\0&0\\end{bmatrix}\\\\\\begin{bmatrix}0&0\\\\0&0\\end{bmatrix}&\\begin{bmatrix}0&0\\\\0&0\\end{bmatrix}\\end{bmatrix}}$"
      ],
      "text/plain": [
       "Eq(ASymm(SupSub(MyTensor(g, 3, 0), (mu, i, j), ()), i, j), MyMul(1/2, MyAdd(SupSub(MyTensor(g, 3, 0), (mu, i, j), ()), Negative(SupSub(MyTensor(g, 3, 0), (mu, j, i), ())))), MyMatrix((MyMatrix((MyMatrix((MyMatrix((0, 0)), MyMatrix((0, 0)))), MyMatrix((MyMatrix((0, 0)), MyMatrix((0, 0)))))), MyMatrix((MyMatrix((MyMatrix((0, 0)), MyMatrix((0, 0)))), MyMatrix((MyMatrix((0, 0)), MyMatrix((0, 0)))))))), MyMatrix((MyMatrix((MyMatrix((MyMatrix((0, 0)), MyMatrix((0, 0)))), MyMatrix((MyMatrix((0, 0)), MyMatrix((0, 0)))))), MyMatrix((MyMatrix((MyMatrix((0, 0)), MyMatrix((0, 0)))), MyMatrix((MyMatrix((0, 0)), MyMatrix((0, 0)))))))))"
      ]
     },
     "metadata": {},
     "output_type": "display_data"
    },
    {
     "data": {
      "text/markdown": [
       "## Ansatz 2\n",
       "Inserting the following ansatz:"
      ],
      "text/plain": [
       "<IPython.core.display.Markdown object>"
      ]
     },
     "metadata": {},
     "output_type": "display_data"
    },
    {
     "data": {
      "text/latex": [
       "$\\displaystyle {g}^{\\mu, i, j}_{} \\rightarrow {g}^{i, j}_{}, {b}^{\\mu, i, j}_{k} \\rightarrow {b}^{i, j}_{k}, {g}^{1, 2}_{} \\rightarrow 0, {g}^{2, 1}_{} \\rightarrow 0, {b}^{2, 1}_{i} \\rightarrow -{b}^{1, 2}_{i}, \\frac{\\partial {g}^{i, i}_{}}{\\partial {u}^{j}_{}} \\rightarrow {2}   {{b}^{i, i}_{j}}, {b}^{i, j}_{k} \\rightarrow \\frac{\\partial {b}^{i, j}_{}}{\\partial {u}^{k}_{}}$"
      ],
      "text/plain": [
       "Rep({PDiff(SupSub(MyTensor(g, 2, 0), (i_, i_), ()), SupSub(MyTensor(u, 1, 0), (j_,), ())): MyMul(2, SupSub(MyTensor(b, 2, 1), (i_, i_), (j_,))), SupSub(MyTensor(b, 2, 1), (2, 1), (i_,)): Negative(SupSub(MyTensor(b, 2, 1), (1, 2), (i_,))), SupSub(MyTensor(b, 2, 1), (i_, j_), (k_,)): PDiff(SupSub(MyTensor(b, 2, 1), (i_, j_), ()), SupSub(MyTensor(u, 1, 0), (k_,), ())), SupSub(MyTensor(b, 3, 1), (mu_, i_, j_), (k_,)): SupSub(MyTensor(b, 2, 1), (i_, j_), (k_,)), SupSub(MyTensor(g, 2, 0), (1, 2), ()): 0, SupSub(MyTensor(g, 2, 0), (2, 1), ()): 0, SupSub(MyTensor(g, 3, 0), (mu_, i_, j_), ()): SupSub(MyTensor(g, 2, 0), (i_, j_), ())})"
      ]
     },
     "metadata": {},
     "output_type": "display_data"
    },
    {
     "data": {
      "text/latex": [
       "$\\displaystyle {g}^{2, 2}_{} \\rightarrow -{g}^{1, 1}_{}, {b}^{2, 2}_{} \\rightarrow -{b}^{1, 1}_{}, {b}^{1, 2}_{} \\rightarrow {b}^{1, 1}_{}, \\frac{\\partial {b}^{1, 1}_{}}{\\partial {u}^{i}_{}} \\rightarrow \\frac{\\partial {b}^{1, 1}_{}}{\\partial {u}^{1}_{}}, \\frac{\\partial^{2} {b}^{1, 1}_{}}{\\partial {u}^{i}_{} \\partial {u}^{j}_{}} \\rightarrow \\frac{\\partial^{2} {b}^{1, 1}_{}}{\\partial {u}^{1}_{} \\partial {u}^{1}_{}}$"
      ],
      "text/plain": [
       "Rep({PDiff(SupSub(MyTensor(b, 2, 1), (1, 1), ()), SupSub(MyTensor(u, 1, 0), (i_,), ())): PDiff(SupSub(MyTensor(b, 2, 1), (1, 1), ()), SupSub(MyTensor(u, 1, 0), (1,), ())), PDiff(SupSub(MyTensor(b, 2, 1), (1, 1), ()), SupSub(MyTensor(u, 1, 0), (i_,), ()), SupSub(MyTensor(u, 1, 0), (j_,), ())): PDiff(SupSub(MyTensor(b, 2, 1), (1, 1), ()), SupSub(MyTensor(u, 1, 0), (1,), ()), SupSub(MyTensor(u, 1, 0), (1,), ())), SupSub(MyTensor(b, 2, 1), (1, 2), ()): SupSub(MyTensor(b, 2, 1), (1, 1), ()), SupSub(MyTensor(b, 2, 1), (2, 2), ()): Negative(SupSub(MyTensor(b, 2, 1), (1, 1), ())), SupSub(MyTensor(g, 2, 0), (2, 2), ()): Negative(SupSub(MyTensor(g, 2, 0), (1, 1), ()))})"
      ]
     },
     "metadata": {},
     "output_type": "display_data"
    },
    {
     "data": {
      "text/markdown": [
       "### Ansatz 2, Equation 1"
      ],
      "text/plain": [
       "<IPython.core.display.Markdown object>"
      ]
     },
     "metadata": {},
     "output_type": "display_data"
    },
    {
     "data": {
      "text/latex": [
       "$\\displaystyle {{\\left[{g}^{\\mu, i, j}_{}\\right]}_{\\left[i, j\\right]}} = {{\\frac{1}{2}}   {\\left({g}^{\\mu, i, j}_{}-{g}^{\\mu, j, i}_{}\\right)}} = {\\begin{bmatrix}\\begin{bmatrix}0&0\\\\0&0\\end{bmatrix}&\\begin{bmatrix}0&0\\\\0&0\\end{bmatrix}\\\\\\begin{bmatrix}0&0\\\\0&0\\end{bmatrix}&\\begin{bmatrix}0&0\\\\0&0\\end{bmatrix}\\end{bmatrix}} = {\\begin{bmatrix}\\begin{bmatrix}0&0\\\\0&0\\end{bmatrix}&\\begin{bmatrix}0&0\\\\0&0\\end{bmatrix}\\\\\\begin{bmatrix}0&0\\\\0&0\\end{bmatrix}&\\begin{bmatrix}0&0\\\\0&0\\end{bmatrix}\\end{bmatrix}}$"
      ],
      "text/plain": [
       "Eq(ASymm(SupSub(MyTensor(g, 3, 0), (mu, i, j), ()), i, j), MyMul(1/2, MyAdd(SupSub(MyTensor(g, 3, 0), (mu, i, j), ()), Negative(SupSub(MyTensor(g, 3, 0), (mu, j, i), ())))), MyMatrix((MyMatrix((MyMatrix((MyMatrix((0, 0)), MyMatrix((0, 0)))), MyMatrix((MyMatrix((0, 0)), MyMatrix((0, 0)))))), MyMatrix((MyMatrix((MyMatrix((0, 0)), MyMatrix((0, 0)))), MyMatrix((MyMatrix((0, 0)), MyMatrix((0, 0)))))))), MyMatrix((MyMatrix((MyMatrix((MyMatrix((0, 0)), MyMatrix((0, 0)))), MyMatrix((MyMatrix((0, 0)), MyMatrix((0, 0)))))), MyMatrix((MyMatrix((MyMatrix((0, 0)), MyMatrix((0, 0)))), MyMatrix((MyMatrix((0, 0)), MyMatrix((0, 0)))))))))"
      ]
     },
     "metadata": {},
     "output_type": "display_data"
    }
   ],
   "source": [
    "nn = 2\n",
    "for jj, ansatz in enumerate(ansatzes):\n",
    "    display(Markdown(f\"## Ansatz {jj+1}\\nInserting the following ansatz:\"))\n",
    "    display(Rep(common), Rep(ansatz))\n",
    "    for ii in range(len(hydro.jacobi_eqs.args)):\n",
    "        display(Markdown(f\"### Ansatz {jj+1}, Equation {ii+1}\"))\n",
    "        eq0 = hydro.jacobi_eqs.args[ii].rhs\n",
    "        eq1 = eq0.doit().doit()\n",
    "        eq2 = gMatrix(\n",
    "            gSum(\n",
    "                eq1,\n",
    "                (l, nn),\n",
    "                (n, nn)\n",
    "            ),\n",
    "            (i, nn),\n",
    "            (j, nn),\n",
    "            (k, nn),\n",
    "            (m, nn)\n",
    "        ) >> RRep(\n",
    "            common\n",
    "        ) << RRep(\n",
    "            ansatz\n",
    "        ) >> {PDiff(i_, u[2], u[1]): PDiff(i_, u[1], u[2])} >> Distribute\n",
    "        display(\n",
    "            Eq(eq0, eq1, eq2)\n",
    "        )\n"
   ]
  },
  {
   "cell_type": "code",
   "execution_count": null,
   "metadata": {},
   "outputs": [],
   "source": []
  }
 ],
 "metadata": {
  "kernelspec": {
   "display_name": "Python 3",
   "language": "python",
   "name": "python3"
  },
  "language_info": {
   "codemirror_mode": {
    "name": "ipython",
    "version": 3
   },
   "file_extension": ".py",
   "mimetype": "text/x-python",
   "name": "python",
   "nbconvert_exporter": "python",
   "pygments_lexer": "ipython3",
   "version": "3.6.7"
  },
  "toc": {
   "base_numbering": 1,
   "nav_menu": {},
   "number_sections": true,
   "sideBar": true,
   "skip_h1_title": false,
   "title_cell": "Table of Contents",
   "title_sidebar": "Contents",
   "toc_cell": false,
   "toc_position": {},
   "toc_section_display": true,
   "toc_window_display": false
  },
  "varInspector": {
   "cols": {
    "lenName": 16,
    "lenType": 16,
    "lenVar": 40
   },
   "kernels_config": {
    "python": {
     "delete_cmd_postfix": "",
     "delete_cmd_prefix": "del ",
     "library": "var_list.py",
     "varRefreshCmd": "print(var_dic_list())"
    },
    "r": {
     "delete_cmd_postfix": ") ",
     "delete_cmd_prefix": "rm(",
     "library": "var_list.r",
     "varRefreshCmd": "cat(var_dic_list()) "
    }
   },
   "types_to_exclude": [
    "module",
    "function",
    "builtin_function_or_method",
    "instance",
    "_Feature"
   ],
   "window_display": false
  }
 },
 "nbformat": 4,
 "nbformat_minor": 2
}
