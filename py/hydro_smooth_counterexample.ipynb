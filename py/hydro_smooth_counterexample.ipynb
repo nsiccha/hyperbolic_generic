{
 "cells": [
  {
   "cell_type": "markdown",
   "metadata": {},
   "source": [
    "[![Open In Colab](https://colab.research.google.com/assets/colab-badge.svg)](https://colab.research.google.com/github/nsiccha/hyperbolic_generic/blob/master/py/hydro_smooth_counterexample.ipynb)"
   ]
  },
  {
   "cell_type": "code",
   "execution_count": 12,
   "metadata": {
    "ExecuteTime": {
     "end_time": "2020-08-06T11:43:39.055232Z",
     "start_time": "2020-08-06T11:43:36.139549Z"
    }
   },
   "outputs": [
    {
     "name": "stdout",
     "output_type": "stream",
     "text": [
      "Requirement already satisfied: cached_property in /home/niko/miniconda3/lib/python3.6/site-packages (1.5.1)\r\n",
      "Requirement already satisfied: sympy==1.6 in /home/niko/miniconda3/lib/python3.6/site-packages (1.6)\r\n",
      "Requirement already satisfied: mpmath>=0.19 in /home/niko/miniconda3/lib/python3.6/site-packages (from sympy==1.6) (1.1.0)\r\n"
     ]
    }
   ],
   "source": [
    "import os\n",
    "if os.getcwd() == '/content': #On colab, init\n",
    "    !git clone https://github.com/nsiccha/hyperbolic_generic\n",
    "    %cd /content/hyperbolic_generic/py/\n",
    "!pip install cached_property sympy==1.6\n",
    "from base import *\n",
    "BasicExpr.math_env = 'aligned'\n",
    "BasicExpr.show_label = False\n",
    "from IPython.display import Markdown\n",
    "\n",
    "import hydro"
   ]
  },
  {
   "cell_type": "code",
   "execution_count": 21,
   "metadata": {
    "ExecuteTime": {
     "end_time": "2020-08-06T11:47:35.928029Z",
     "start_time": "2020-08-06T11:47:35.905384Z"
    }
   },
   "outputs": [
    {
     "data": {
      "text/markdown": [
       "# Jacobi Identity\n",
       "These are the n.a.s. coditions for a hydrodynamic bracket to be Poisson:"
      ],
      "text/plain": [
       "<IPython.core.display.Markdown object>"
      ]
     },
     "metadata": {},
     "output_type": "display_data"
    },
    {
     "data": {
      "text/latex": [
       "\n",
       "\\begin{aligned}0 &= {\\left[{g}^{\\mu, i, j}_{}\\right]}_{\\left[i, j\\right]}\\\\\n",
       "0 &= \\frac{\\partial {g}^{\\mu, i, j}_{}}{\\partial {u}^{k}_{}} + {-2}   {{\\left[{b}^{\\mu, i, j}_{k}\\right]}_{\\left(i, j\\right)}}\\\\\n",
       "0 &= {\\left[{\\left[{{g}^{\\mu, i, l}_{}}   {{b}^{\\nu, j, k}_{l}}\\right]}_{\\left[i, j\\right]}\\right]}_{\\left(\\mu, \\nu\\right)}\\\\\n",
       "0 &= {\\left[{\\left[{{g}^{\\mu, i, l}_{}}   {{b}^{\\nu, j, k}_{l}}\\right]}_{\\left[\\left(i, \\mu\\right), \\left(j, \\nu\\right)\\right]}\\right]}_{\\circlearrowright i, j, k}\\\\\n",
       "0 &= {\\left[{{g}^{\\mu, i, l}_{}}   {{\\left[\\frac{\\partial {b}^{\\nu, j, k}_{l}}{\\partial {u}^{m}_{}}\\right]}_{\\left[m, l\\right]}}-{\\left[{{b}^{\\nu, i, k}_{l}}   {{b}^{\\mu, l, j}_{m}}\\right]}_{\\left[j, k\\right]}\\right]}_{\\left(\\mu, \\nu\\right)}\\\\\n",
       "0 &= {\\left[{{g}^{\\mu, i, l}_{}}   {\\frac{\\partial {b}^{\\nu, j, k}_{m}}{\\partial {u}^{l}_{}}} + {{b}^{\\nu, j, i}_{l}}   {{b}^{\\mu, l, k}_{m}} + {{b}^{\\nu, j, k}_{l}}   {{b}^{\\mu, i, l}_{m}}\\right]}_{\\left[\\left(i, \\mu\\right), \\left(j, \\nu\\right)\\right]}\\\\\n",
       "0 &= {\\left[\\frac{\\partial}{\\partial {u}^{n}_{}}\\left({{g}^{\\mu, i, l}_{}}   {{\\left[\\frac{\\partial {b}^{\\nu, j, k}_{l}}{\\partial {u}^{m}_{}}\\right]}_{\\left[m, l\\right]}} + {\\left[{{b}^{\\mu, i, j}_{l}}   {{b}^{\\nu, l, k}_{m}}\\right]}_{\\left[j, k\\right]}\\right)-{\\left[{{b}^{\\mu, l, i}_{m}}   {{\\left[\\frac{\\partial {b}^{\\nu, j, k}_{l}}{\\partial {u}^{m}_{}}\\right]}_{\\left[m, l\\right]}}\\right]}_{\\circlearrowright i, j, k}\\right]}_{\\left(\\left(\\mu, n\\right), \\left(\\nu, l\\right)\\right)}\\end{aligned}\n"
      ],
      "text/plain": [
       "Relations(Eq(0, ASymm(SupSub(MyTensor(g, 3, 0), (mu, i, j), ()), i, j)), Eq(0, MyAdd(PDiff(SupSub(MyTensor(g, 3, 0), (mu, i, j), ()), SupSub(MyTensor(u, 1, 0), (k,), ())), MyMul(-2, Symm(SupSub(MyTensor(b, 3, 1), (mu, i, j), (k,)), i, j)))), Eq(0, Symm(ASymm(MyMul(SupSub(MyTensor(g, 3, 0), (mu, i, l), ()), SupSub(MyTensor(b, 3, 1), (nu, j, k), (l,))), i, j), mu, nu)), Eq(0, Cycler(ASymm(MyMul(SupSub(MyTensor(g, 3, 0), (mu, i, l), ()), SupSub(MyTensor(b, 3, 1), (nu, j, k), (l,))), MyTuple(i, mu), MyTuple(j, nu)), i, j, k)), Eq(0, Symm(Protect(MyAdd(MyMul(SupSub(MyTensor(g, 3, 0), (mu, i, l), ()), ASymm(PDiff(SupSub(MyTensor(b, 3, 1), (nu, j, k), (l,)), SupSub(MyTensor(u, 1, 0), (m,), ())), m, l)), Negative(ASymm(MyMul(SupSub(MyTensor(b, 3, 1), (nu, i, k), (l,)), SupSub(MyTensor(b, 3, 1), (mu, l, j), (m,))), j, k)))), mu, nu)), Eq(0, ASymm(Protect(MyAdd(MyMul(SupSub(MyTensor(g, 3, 0), (mu, i, l), ()), PDiff(SupSub(MyTensor(b, 3, 1), (nu, j, k), (m,)), SupSub(MyTensor(u, 1, 0), (l,), ()))), MyMul(SupSub(MyTensor(b, 3, 1), (nu, j, i), (l,)), SupSub(MyTensor(b, 3, 1), (mu, l, k), (m,))), MyMul(SupSub(MyTensor(b, 3, 1), (nu, j, k), (l,)), SupSub(MyTensor(b, 3, 1), (mu, i, l), (m,))))), MyTuple(i, mu), MyTuple(j, nu))), Eq(0, Symm(Protect(MyAdd(PDiff(MyAdd(MyMul(SupSub(MyTensor(g, 3, 0), (mu, i, l), ()), ASymm(PDiff(SupSub(MyTensor(b, 3, 1), (nu, j, k), (l,)), SupSub(MyTensor(u, 1, 0), (m,), ())), m, l)), ASymm(MyMul(SupSub(MyTensor(b, 3, 1), (mu, i, j), (l,)), SupSub(MyTensor(b, 3, 1), (nu, l, k), (m,))), j, k)), SupSub(MyTensor(u, 1, 0), (n,), ())), Negative(Cycler(MyMul(SupSub(MyTensor(b, 3, 1), (mu, l, i), (m,)), ASymm(PDiff(SupSub(MyTensor(b, 3, 1), (nu, j, k), (l,)), SupSub(MyTensor(u, 1, 0), (m,), ())), m, l)), i, j, k)))), MyTuple(mu, n), MyTuple(nu, l))))"
      ]
     },
     "metadata": {},
     "output_type": "display_data"
    }
   ],
   "source": [
    "display(Markdown(\"# Jacobi Identity\\nThese are the n.a.s. coditions for a hydrodynamic bracket to be Poisson:\"))\n",
    "display(hydro.jacobi_eqs)"
   ]
  },
  {
   "cell_type": "code",
   "execution_count": 23,
   "metadata": {
    "ExecuteTime": {
     "end_time": "2020-08-06T11:47:51.991403Z",
     "start_time": "2020-08-06T11:47:51.956270Z"
    }
   },
   "outputs": [
    {
     "data": {
      "text/markdown": [
       "# Ansatzes\n",
       "These are the two families of brackets from the proof."
      ],
      "text/plain": [
       "<IPython.core.display.Markdown object>"
      ]
     },
     "metadata": {},
     "output_type": "display_data"
    },
    {
     "data": {
      "text/latex": [
       "$\\displaystyle {g}^{2, 2}_{} \\rightarrow 0, {b}^{2, 2}_{} \\rightarrow 0, {b}^{1, 2}_{} \\rightarrow 0$"
      ],
      "text/plain": [
       "Rep({SupSub(MyTensor(b, 2, 1), (1, 2), ()): 0, SupSub(MyTensor(b, 2, 1), (2, 2), ()): 0, SupSub(MyTensor(g, 2, 0), (2, 2), ()): 0})"
      ]
     },
     "metadata": {},
     "output_type": "display_data"
    },
    {
     "data": {
      "text/latex": [
       "$\\displaystyle {g}^{2, 2}_{} \\rightarrow -{g}^{1, 1}_{}, {b}^{2, 2}_{} \\rightarrow -{b}^{1, 1}_{}, {b}^{1, 2}_{} \\rightarrow {b}^{1, 1}_{}, \\frac{\\partial {b}^{1, 1}_{}}{\\partial {u}^{i}_{}} \\rightarrow \\frac{\\partial {b}^{1, 1}_{}}{\\partial {u}^{1}_{}}, \\frac{\\partial^{2} {b}^{1, 1}_{}}{\\partial {u}^{i}_{} \\partial {u}^{j}_{}} \\rightarrow \\frac{\\partial^{2} {b}^{1, 1}_{}}{\\partial {u}^{1}_{} \\partial {u}^{1}_{}}$"
      ],
      "text/plain": [
       "Rep({PDiff(SupSub(MyTensor(b, 2, 1), (1, 1), ()), SupSub(MyTensor(u, 1, 0), (i_,), ())): PDiff(SupSub(MyTensor(b, 2, 1), (1, 1), ()), SupSub(MyTensor(u, 1, 0), (1,), ())), PDiff(SupSub(MyTensor(b, 2, 1), (1, 1), ()), SupSub(MyTensor(u, 1, 0), (i_,), ()), SupSub(MyTensor(u, 1, 0), (j_,), ())): PDiff(SupSub(MyTensor(b, 2, 1), (1, 1), ()), SupSub(MyTensor(u, 1, 0), (1,), ()), SupSub(MyTensor(u, 1, 0), (1,), ())), SupSub(MyTensor(b, 2, 1), (1, 2), ()): SupSub(MyTensor(b, 2, 1), (1, 1), ()), SupSub(MyTensor(b, 2, 1), (2, 2), ()): Negative(SupSub(MyTensor(b, 2, 1), (1, 1), ())), SupSub(MyTensor(g, 2, 0), (2, 2), ()): Negative(SupSub(MyTensor(g, 2, 0), (1, 1), ()))})"
      ]
     },
     "metadata": {},
     "output_type": "display_data"
    }
   ],
   "source": [
    "mu_, i_, j_, k_, l_ = Wild.symbols('mu i j k l')\n",
    "ansatzes = {\n",
    "    g1[2,2]: 0, b1[2,2]: 0, b1[1,2]: 0\n",
    "}, {\n",
    "    g1[2,2]: -g1[1,1], b1[2,2]: -b1[1,1], b1[1,2]: b1[1,1], \n",
    "    b1[1,1].d(u[i_]): b1[1,1].d(u[1]), b1[1,1].d(u[i_], u[j_]): b1[1,1].d(u[1], u[1]),\n",
    "}\n",
    "display(Markdown('# Ansatzes\\nThese are the two families of brackets from the proof.'))\n",
    "display(Rep(ansatzes[0]))\n",
    "display(Rep(ansatzes[1]))"
   ]
  },
  {
   "cell_type": "code",
   "execution_count": 19,
   "metadata": {
    "ExecuteTime": {
     "end_time": "2020-08-06T11:47:25.739988Z",
     "start_time": "2020-08-06T11:46:45.350539Z"
    }
   },
   "outputs": [
    {
     "data": {
      "text/markdown": [
       "## Ansatz 1\n",
       "Inserting the following ansatz:"
      ],
      "text/plain": [
       "<IPython.core.display.Markdown object>"
      ]
     },
     "metadata": {},
     "output_type": "display_data"
    },
    {
     "data": {
      "text/latex": [
       "$\\displaystyle {g}^{2, 2}_{} \\rightarrow 0, {b}^{2, 2}_{} \\rightarrow 0, {b}^{1, 2}_{} \\rightarrow 0$"
      ],
      "text/plain": [
       "Rep({SupSub(MyTensor(b, 2, 1), (1, 2), ()): 0, SupSub(MyTensor(b, 2, 1), (2, 2), ()): 0, SupSub(MyTensor(g, 2, 0), (2, 2), ()): 0})"
      ]
     },
     "metadata": {},
     "output_type": "display_data"
    },
    {
     "data": {
      "text/markdown": [
       "### Ansatz 1, Equation 1"
      ],
      "text/plain": [
       "<IPython.core.display.Markdown object>"
      ]
     },
     "metadata": {},
     "output_type": "display_data"
    },
    {
     "data": {
      "text/latex": [
       "$\\displaystyle {{\\left[{g}^{\\mu, i, j}_{}\\right]}_{\\left[i, j\\right]}} = {{\\frac{1}{2}}   {\\left({g}^{\\mu, i, j}_{}-{g}^{\\mu, j, i}_{}\\right)}} = {\\begin{bmatrix}\\begin{bmatrix}0&0\\\\0&0\\end{bmatrix}&\\begin{bmatrix}0&0\\\\0&0\\end{bmatrix}\\\\\\begin{bmatrix}0&0\\\\0&0\\end{bmatrix}&\\begin{bmatrix}0&0\\\\0&0\\end{bmatrix}\\end{bmatrix}}$"
      ],
      "text/plain": [
       "Eq(ASymm(SupSub(MyTensor(g, 3, 0), (mu, i, j), ()), i, j), MyMul(1/2, MyAdd(SupSub(MyTensor(g, 3, 0), (mu, i, j), ()), Negative(SupSub(MyTensor(g, 3, 0), (mu, j, i), ())))), MyMatrix((MyMatrix((MyMatrix((MyMatrix((0, 0)), MyMatrix((0, 0)))), MyMatrix((MyMatrix((0, 0)), MyMatrix((0, 0)))))), MyMatrix((MyMatrix((MyMatrix((0, 0)), MyMatrix((0, 0)))), MyMatrix((MyMatrix((0, 0)), MyMatrix((0, 0)))))))))"
      ]
     },
     "metadata": {},
     "output_type": "display_data"
    },
    {
     "data": {
      "text/markdown": [
       "### Ansatz 1, Equation 2"
      ],
      "text/plain": [
       "<IPython.core.display.Markdown object>"
      ]
     },
     "metadata": {},
     "output_type": "display_data"
    },
    {
     "data": {
      "text/latex": [
       "$\\displaystyle {\\frac{\\partial {g}^{\\mu, i, j}_{}}{\\partial {u}^{k}_{}} + {-2}   {{\\left[{b}^{\\mu, i, j}_{k}\\right]}_{\\left(i, j\\right)}}} = {\\frac{\\partial {g}^{\\mu, i, j}_{}}{\\partial {u}^{k}_{}} + {-1}   {\\left({b}^{\\mu, i, j}_{k} + {b}^{\\mu, j, i}_{k}\\right)}} = {\\begin{bmatrix}\\begin{bmatrix}0&0\\\\0&0\\end{bmatrix}&\\begin{bmatrix}0&0\\\\0&0\\end{bmatrix}\\\\\\begin{bmatrix}0&0\\\\0&0\\end{bmatrix}&\\begin{bmatrix}0&0\\\\0&0\\end{bmatrix}\\end{bmatrix}}$"
      ],
      "text/plain": [
       "Eq(MyAdd(PDiff(SupSub(MyTensor(g, 3, 0), (mu, i, j), ()), SupSub(MyTensor(u, 1, 0), (k,), ())), MyMul(-2, Symm(SupSub(MyTensor(b, 3, 1), (mu, i, j), (k,)), i, j))), MyAdd(PDiff(SupSub(MyTensor(g, 3, 0), (mu, i, j), ()), SupSub(MyTensor(u, 1, 0), (k,), ())), MyMul(-1, MyAdd(SupSub(MyTensor(b, 3, 1), (mu, i, j), (k,)), SupSub(MyTensor(b, 3, 1), (mu, j, i), (k,))))), MyMatrix((MyMatrix((MyMatrix((MyMatrix((0, 0)), MyMatrix((0, 0)))), MyMatrix((MyMatrix((0, 0)), MyMatrix((0, 0)))))), MyMatrix((MyMatrix((MyMatrix((0, 0)), MyMatrix((0, 0)))), MyMatrix((MyMatrix((0, 0)), MyMatrix((0, 0)))))))))"
      ]
     },
     "metadata": {},
     "output_type": "display_data"
    },
    {
     "data": {
      "text/markdown": [
       "### Ansatz 1, Equation 3"
      ],
      "text/plain": [
       "<IPython.core.display.Markdown object>"
      ]
     },
     "metadata": {},
     "output_type": "display_data"
    },
    {
     "data": {
      "text/latex": [
       "$\\displaystyle {{\\left[{\\left[{{g}^{\\mu, i, l}_{}}   {{b}^{\\nu, j, k}_{l}}\\right]}_{\\left[i, j\\right]}\\right]}_{\\left(\\mu, \\nu\\right)}} = {{\\frac{1}{4}}   {\\left({{g}^{\\mu, i, l}_{}}   {{b}^{\\nu, j, k}_{l}} + {-1}   {{g}^{\\mu, j, l}_{}}   {{b}^{\\nu, i, k}_{l}} + {{g}^{\\nu, i, l}_{}}   {{b}^{\\mu, j, k}_{l}} + {-1}   {{g}^{\\nu, j, l}_{}}   {{b}^{\\mu, i, k}_{l}}\\right)}} = {\\begin{bmatrix}\\begin{bmatrix}0&0\\\\0&0\\end{bmatrix}&\\begin{bmatrix}0&0\\\\0&0\\end{bmatrix}\\\\\\begin{bmatrix}0&0\\\\0&0\\end{bmatrix}&\\begin{bmatrix}0&0\\\\0&0\\end{bmatrix}\\end{bmatrix}}$"
      ],
      "text/plain": [
       "Eq(Symm(ASymm(MyMul(SupSub(MyTensor(g, 3, 0), (mu, i, l), ()), SupSub(MyTensor(b, 3, 1), (nu, j, k), (l,))), i, j), mu, nu), MyMul(1/4, MyAdd(MyMul(SupSub(MyTensor(g, 3, 0), (mu, i, l), ()), SupSub(MyTensor(b, 3, 1), (nu, j, k), (l,))), MyMul(-1, SupSub(MyTensor(g, 3, 0), (mu, j, l), ()), SupSub(MyTensor(b, 3, 1), (nu, i, k), (l,))), MyMul(SupSub(MyTensor(g, 3, 0), (nu, i, l), ()), SupSub(MyTensor(b, 3, 1), (mu, j, k), (l,))), MyMul(-1, SupSub(MyTensor(g, 3, 0), (nu, j, l), ()), SupSub(MyTensor(b, 3, 1), (mu, i, k), (l,))))), MyMatrix((MyMatrix((MyMatrix((MyMatrix((0, 0)), MyMatrix((0, 0)))), MyMatrix((MyMatrix((0, 0)), MyMatrix((0, 0)))))), MyMatrix((MyMatrix((MyMatrix((0, 0)), MyMatrix((0, 0)))), MyMatrix((MyMatrix((0, 0)), MyMatrix((0, 0)))))))))"
      ]
     },
     "metadata": {},
     "output_type": "display_data"
    },
    {
     "data": {
      "text/markdown": [
       "### Ansatz 1, Equation 4"
      ],
      "text/plain": [
       "<IPython.core.display.Markdown object>"
      ]
     },
     "metadata": {},
     "output_type": "display_data"
    },
    {
     "data": {
      "text/latex": [
       "$\\displaystyle {{\\left[{\\left[{{g}^{\\mu, i, l}_{}}   {{b}^{\\nu, j, k}_{l}}\\right]}_{\\left[\\left(i, \\mu\\right), \\left(j, \\nu\\right)\\right]}\\right]}_{\\circlearrowright i, j, k}} = {{\\frac{1}{2}}   {\\left({{g}^{\\mu, i, l}_{}}   {{b}^{\\nu, j, k}_{l}} + {-1}   {{g}^{\\nu, j, l}_{}}   {{b}^{\\mu, i, k}_{l}} + {{g}^{\\mu, j, l}_{}}   {{b}^{\\nu, k, i}_{l}} + {-1}   {{g}^{\\nu, k, l}_{}}   {{b}^{\\mu, j, i}_{l}} + {{g}^{\\mu, k, l}_{}}   {{b}^{\\nu, i, j}_{l}} + {-1}   {{g}^{\\nu, i, l}_{}}   {{b}^{\\mu, k, j}_{l}}\\right)}} = {\\begin{bmatrix}\\begin{bmatrix}0&0\\\\0&0\\end{bmatrix}&\\begin{bmatrix}0&0\\\\0&0\\end{bmatrix}\\\\\\begin{bmatrix}0&0\\\\0&0\\end{bmatrix}&\\begin{bmatrix}0&0\\\\0&0\\end{bmatrix}\\end{bmatrix}}$"
      ],
      "text/plain": [
       "Eq(Cycler(ASymm(MyMul(SupSub(MyTensor(g, 3, 0), (mu, i, l), ()), SupSub(MyTensor(b, 3, 1), (nu, j, k), (l,))), MyTuple(i, mu), MyTuple(j, nu)), i, j, k), MyMul(1/2, MyAdd(MyMul(SupSub(MyTensor(g, 3, 0), (mu, i, l), ()), SupSub(MyTensor(b, 3, 1), (nu, j, k), (l,))), MyMul(-1, SupSub(MyTensor(g, 3, 0), (nu, j, l), ()), SupSub(MyTensor(b, 3, 1), (mu, i, k), (l,))), MyMul(SupSub(MyTensor(g, 3, 0), (mu, j, l), ()), SupSub(MyTensor(b, 3, 1), (nu, k, i), (l,))), MyMul(-1, SupSub(MyTensor(g, 3, 0), (nu, k, l), ()), SupSub(MyTensor(b, 3, 1), (mu, j, i), (l,))), MyMul(SupSub(MyTensor(g, 3, 0), (mu, k, l), ()), SupSub(MyTensor(b, 3, 1), (nu, i, j), (l,))), MyMul(-1, SupSub(MyTensor(g, 3, 0), (nu, i, l), ()), SupSub(MyTensor(b, 3, 1), (mu, k, j), (l,))))), MyMatrix((MyMatrix((MyMatrix((MyMatrix((0, 0)), MyMatrix((0, 0)))), MyMatrix((MyMatrix((0, 0)), MyMatrix((0, 0)))))), MyMatrix((MyMatrix((MyMatrix((0, 0)), MyMatrix((0, 0)))), MyMatrix((MyMatrix((0, 0)), MyMatrix((0, 0)))))))))"
      ]
     },
     "metadata": {},
     "output_type": "display_data"
    },
    {
     "data": {
      "text/markdown": [
       "### Ansatz 1, Equation 5"
      ],
      "text/plain": [
       "<IPython.core.display.Markdown object>"
      ]
     },
     "metadata": {},
     "output_type": "display_data"
    },
    {
     "data": {
      "text/latex": [
       "$\\displaystyle {{\\left[{{g}^{\\mu, i, l}_{}}   {{\\left[\\frac{\\partial {b}^{\\nu, j, k}_{l}}{\\partial {u}^{m}_{}}\\right]}_{\\left[m, l\\right]}}-{\\left[{{b}^{\\nu, i, k}_{l}}   {{b}^{\\mu, l, j}_{m}}\\right]}_{\\left[j, k\\right]}\\right]}_{\\left(\\mu, \\nu\\right)}} = {{\\frac{1}{2}}   {\\left(\\frac{{{g}^{\\mu, i, l}_{}}   {\\left(\\frac{\\partial {b}^{\\nu, j, k}_{l}}{\\partial {u}^{m}_{}}-\\frac{\\partial {b}^{\\nu, j, k}_{m}}{\\partial {u}^{l}_{}}\\right)}}{2} + {- \\frac{1}{2}}   {\\left({{b}^{\\nu, i, k}_{l}}   {{b}^{\\mu, l, j}_{m}} + {-1}   {{b}^{\\nu, i, j}_{l}}   {{b}^{\\mu, l, k}_{m}}\\right)} + \\frac{{{g}^{\\nu, i, l}_{}}   {\\left(\\frac{\\partial {b}^{\\mu, j, k}_{l}}{\\partial {u}^{m}_{}}-\\frac{\\partial {b}^{\\mu, j, k}_{m}}{\\partial {u}^{l}_{}}\\right)}}{2} + {- \\frac{1}{2}}   {\\left({{b}^{\\mu, i, k}_{l}}   {{b}^{\\nu, l, j}_{m}} + {-1}   {{b}^{\\mu, i, j}_{l}}   {{b}^{\\nu, l, k}_{m}}\\right)}\\right)}} = {\\begin{bmatrix}\\begin{bmatrix}0&0\\\\0&0\\end{bmatrix}&\\begin{bmatrix}0&0\\\\0&0\\end{bmatrix}\\\\\\begin{bmatrix}0&0\\\\0&0\\end{bmatrix}&\\begin{bmatrix}0&0\\\\0&0\\end{bmatrix}\\end{bmatrix}}$"
      ],
      "text/plain": [
       "Eq(Symm(Protect(MyAdd(MyMul(SupSub(MyTensor(g, 3, 0), (mu, i, l), ()), ASymm(PDiff(SupSub(MyTensor(b, 3, 1), (nu, j, k), (l,)), SupSub(MyTensor(u, 1, 0), (m,), ())), m, l)), Negative(ASymm(MyMul(SupSub(MyTensor(b, 3, 1), (nu, i, k), (l,)), SupSub(MyTensor(b, 3, 1), (mu, l, j), (m,))), j, k)))), mu, nu), MyMul(1/2, MyAdd(Frac(MyMul(SupSub(MyTensor(g, 3, 0), (mu, i, l), ()), MyAdd(PDiff(SupSub(MyTensor(b, 3, 1), (nu, j, k), (l,)), SupSub(MyTensor(u, 1, 0), (m,), ())), Negative(PDiff(SupSub(MyTensor(b, 3, 1), (nu, j, k), (m,)), SupSub(MyTensor(u, 1, 0), (l,), ()))))), 2), MyMul(-1/2, MyAdd(MyMul(SupSub(MyTensor(b, 3, 1), (nu, i, k), (l,)), SupSub(MyTensor(b, 3, 1), (mu, l, j), (m,))), MyMul(-1, SupSub(MyTensor(b, 3, 1), (nu, i, j), (l,)), SupSub(MyTensor(b, 3, 1), (mu, l, k), (m,))))), Frac(MyMul(SupSub(MyTensor(g, 3, 0), (nu, i, l), ()), MyAdd(PDiff(SupSub(MyTensor(b, 3, 1), (mu, j, k), (l,)), SupSub(MyTensor(u, 1, 0), (m,), ())), Negative(PDiff(SupSub(MyTensor(b, 3, 1), (mu, j, k), (m,)), SupSub(MyTensor(u, 1, 0), (l,), ()))))), 2), MyMul(-1/2, MyAdd(MyMul(SupSub(MyTensor(b, 3, 1), (mu, i, k), (l,)), SupSub(MyTensor(b, 3, 1), (nu, l, j), (m,))), MyMul(-1, SupSub(MyTensor(b, 3, 1), (mu, i, j), (l,)), SupSub(MyTensor(b, 3, 1), (nu, l, k), (m,))))))), MyMatrix((MyMatrix((MyMatrix((MyMatrix((0, 0)), MyMatrix((0, 0)))), MyMatrix((MyMatrix((0, 0)), MyMatrix((0, 0)))))), MyMatrix((MyMatrix((MyMatrix((0, 0)), MyMatrix((0, 0)))), MyMatrix((MyMatrix((0, 0)), MyMatrix((0, 0)))))))))"
      ]
     },
     "metadata": {},
     "output_type": "display_data"
    },
    {
     "data": {
      "text/markdown": [
       "### Ansatz 1, Equation 6"
      ],
      "text/plain": [
       "<IPython.core.display.Markdown object>"
      ]
     },
     "metadata": {},
     "output_type": "display_data"
    },
    {
     "data": {
      "text/latex": [
       "$\\displaystyle {{\\left[{{g}^{\\mu, i, l}_{}}   {\\frac{\\partial {b}^{\\nu, j, k}_{m}}{\\partial {u}^{l}_{}}} + {{b}^{\\nu, j, i}_{l}}   {{b}^{\\mu, l, k}_{m}} + {{b}^{\\nu, j, k}_{l}}   {{b}^{\\mu, i, l}_{m}}\\right]}_{\\left[\\left(i, \\mu\\right), \\left(j, \\nu\\right)\\right]}} = {{\\frac{1}{2}}   {\\left({{g}^{\\mu, i, l}_{}}   {\\frac{\\partial {b}^{\\nu, j, k}_{m}}{\\partial {u}^{l}_{}}} + {{b}^{\\nu, j, i}_{l}}   {{b}^{\\mu, l, k}_{m}} + {{b}^{\\nu, j, k}_{l}}   {{b}^{\\mu, i, l}_{m}}-\\left({{g}^{\\nu, j, l}_{}}   {\\frac{\\partial {b}^{\\mu, i, k}_{m}}{\\partial {u}^{l}_{}}} + {{b}^{\\mu, i, j}_{l}}   {{b}^{\\nu, l, k}_{m}} + {{b}^{\\mu, i, k}_{l}}   {{b}^{\\nu, j, l}_{m}}\\right)\\right)}} = {\\begin{bmatrix}\\begin{bmatrix}0&0\\\\0&0\\end{bmatrix}&\\begin{bmatrix}0&0\\\\0&0\\end{bmatrix}\\\\\\begin{bmatrix}0&0\\\\0&0\\end{bmatrix}&\\begin{bmatrix}0&0\\\\0&0\\end{bmatrix}\\end{bmatrix}}$"
      ],
      "text/plain": [
       "Eq(ASymm(Protect(MyAdd(MyMul(SupSub(MyTensor(g, 3, 0), (mu, i, l), ()), PDiff(SupSub(MyTensor(b, 3, 1), (nu, j, k), (m,)), SupSub(MyTensor(u, 1, 0), (l,), ()))), MyMul(SupSub(MyTensor(b, 3, 1), (nu, j, i), (l,)), SupSub(MyTensor(b, 3, 1), (mu, l, k), (m,))), MyMul(SupSub(MyTensor(b, 3, 1), (nu, j, k), (l,)), SupSub(MyTensor(b, 3, 1), (mu, i, l), (m,))))), MyTuple(i, mu), MyTuple(j, nu)), MyMul(1/2, MyAdd(MyMul(SupSub(MyTensor(g, 3, 0), (mu, i, l), ()), PDiff(SupSub(MyTensor(b, 3, 1), (nu, j, k), (m,)), SupSub(MyTensor(u, 1, 0), (l,), ()))), MyMul(SupSub(MyTensor(b, 3, 1), (nu, j, i), (l,)), SupSub(MyTensor(b, 3, 1), (mu, l, k), (m,))), MyMul(SupSub(MyTensor(b, 3, 1), (nu, j, k), (l,)), SupSub(MyTensor(b, 3, 1), (mu, i, l), (m,))), Negative(MyAdd(MyMul(SupSub(MyTensor(g, 3, 0), (nu, j, l), ()), PDiff(SupSub(MyTensor(b, 3, 1), (mu, i, k), (m,)), SupSub(MyTensor(u, 1, 0), (l,), ()))), MyMul(SupSub(MyTensor(b, 3, 1), (mu, i, j), (l,)), SupSub(MyTensor(b, 3, 1), (nu, l, k), (m,))), MyMul(SupSub(MyTensor(b, 3, 1), (mu, i, k), (l,)), SupSub(MyTensor(b, 3, 1), (nu, j, l), (m,))))))), MyMatrix((MyMatrix((MyMatrix((MyMatrix((0, 0)), MyMatrix((0, 0)))), MyMatrix((MyMatrix((0, 0)), MyMatrix((0, 0)))))), MyMatrix((MyMatrix((MyMatrix((0, 0)), MyMatrix((0, 0)))), MyMatrix((MyMatrix((0, 0)), MyMatrix((0, 0)))))))))"
      ]
     },
     "metadata": {},
     "output_type": "display_data"
    },
    {
     "data": {
      "text/markdown": [
       "### Ansatz 1, Equation 7"
      ],
      "text/plain": [
       "<IPython.core.display.Markdown object>"
      ]
     },
     "metadata": {},
     "output_type": "display_data"
    },
    {
     "data": {
      "text/latex": [
       "$\\displaystyle {{\\left[\\frac{\\partial}{\\partial {u}^{n}_{}}\\left({{g}^{\\mu, i, l}_{}}   {{\\left[\\frac{\\partial {b}^{\\nu, j, k}_{l}}{\\partial {u}^{m}_{}}\\right]}_{\\left[m, l\\right]}} + {\\left[{{b}^{\\mu, i, j}_{l}}   {{b}^{\\nu, l, k}_{m}}\\right]}_{\\left[j, k\\right]}\\right)-{\\left[{{b}^{\\mu, l, i}_{m}}   {{\\left[\\frac{\\partial {b}^{\\nu, j, k}_{l}}{\\partial {u}^{m}_{}}\\right]}_{\\left[m, l\\right]}}\\right]}_{\\circlearrowright i, j, k}\\right]}_{\\left(\\left(\\mu, n\\right), \\left(\\nu, l\\right)\\right)}} = {{\\frac{1}{2}}   {\\left(\\frac{\\partial}{\\partial {u}^{n}_{}}\\left(\\frac{{{g}^{\\mu, i, l}_{}}   {\\left(\\frac{\\partial {b}^{\\nu, j, k}_{l}}{\\partial {u}^{m}_{}}-\\frac{\\partial {b}^{\\nu, j, k}_{m}}{\\partial {u}^{l}_{}}\\right)}}{2} + {\\frac{1}{2}}   {\\left({{b}^{\\mu, i, j}_{l}}   {{b}^{\\nu, l, k}_{m}} + {-1}   {{b}^{\\mu, i, k}_{l}}   {{b}^{\\nu, l, j}_{m}}\\right)}\\right)-\\left(\\frac{{{b}^{\\mu, l, i}_{m}}   {\\left(\\frac{\\partial {b}^{\\nu, j, k}_{l}}{\\partial {u}^{m}_{}}-\\frac{\\partial {b}^{\\nu, j, k}_{m}}{\\partial {u}^{l}_{}}\\right)}}{2} + \\frac{{{b}^{\\mu, l, j}_{m}}   {\\left(\\frac{\\partial {b}^{\\nu, k, i}_{l}}{\\partial {u}^{m}_{}}-\\frac{\\partial {b}^{\\nu, k, i}_{m}}{\\partial {u}^{l}_{}}\\right)}}{2} + \\frac{{{b}^{\\mu, l, k}_{m}}   {\\left(\\frac{\\partial {b}^{\\nu, i, j}_{l}}{\\partial {u}^{m}_{}}-\\frac{\\partial {b}^{\\nu, i, j}_{m}}{\\partial {u}^{l}_{}}\\right)}}{2}\\right) + \\frac{\\partial}{\\partial {u}^{l}_{}}\\left(\\frac{{{g}^{\\nu, i, n}_{}}   {\\left(\\frac{\\partial {b}^{\\mu, j, k}_{n}}{\\partial {u}^{m}_{}}-\\frac{\\partial {b}^{\\mu, j, k}_{m}}{\\partial {u}^{n}_{}}\\right)}}{2} + {\\frac{1}{2}}   {\\left({{b}^{\\nu, i, j}_{n}}   {{b}^{\\mu, n, k}_{m}} + {-1}   {{b}^{\\nu, i, k}_{n}}   {{b}^{\\mu, n, j}_{m}}\\right)}\\right)-\\left(\\frac{{{b}^{\\nu, n, i}_{m}}   {\\left(\\frac{\\partial {b}^{\\mu, j, k}_{n}}{\\partial {u}^{m}_{}}-\\frac{\\partial {b}^{\\mu, j, k}_{m}}{\\partial {u}^{n}_{}}\\right)}}{2} + \\frac{{{b}^{\\nu, n, j}_{m}}   {\\left(\\frac{\\partial {b}^{\\mu, k, i}_{n}}{\\partial {u}^{m}_{}}-\\frac{\\partial {b}^{\\mu, k, i}_{m}}{\\partial {u}^{n}_{}}\\right)}}{2} + \\frac{{{b}^{\\nu, n, k}_{m}}   {\\left(\\frac{\\partial {b}^{\\mu, i, j}_{n}}{\\partial {u}^{m}_{}}-\\frac{\\partial {b}^{\\mu, i, j}_{m}}{\\partial {u}^{n}_{}}\\right)}}{2}\\right)\\right)}} = {\\begin{bmatrix}\\begin{bmatrix}0&0\\\\0&0\\end{bmatrix}&\\begin{bmatrix}0&0\\\\0&0\\end{bmatrix}\\\\\\begin{bmatrix}0&0\\\\0&0\\end{bmatrix}&\\begin{bmatrix}0&0\\\\0&0\\end{bmatrix}\\end{bmatrix}}$"
      ],
      "text/plain": [
       "Eq(Symm(Protect(MyAdd(PDiff(MyAdd(MyMul(SupSub(MyTensor(g, 3, 0), (mu, i, l), ()), ASymm(PDiff(SupSub(MyTensor(b, 3, 1), (nu, j, k), (l,)), SupSub(MyTensor(u, 1, 0), (m,), ())), m, l)), ASymm(MyMul(SupSub(MyTensor(b, 3, 1), (mu, i, j), (l,)), SupSub(MyTensor(b, 3, 1), (nu, l, k), (m,))), j, k)), SupSub(MyTensor(u, 1, 0), (n,), ())), Negative(Cycler(MyMul(SupSub(MyTensor(b, 3, 1), (mu, l, i), (m,)), ASymm(PDiff(SupSub(MyTensor(b, 3, 1), (nu, j, k), (l,)), SupSub(MyTensor(u, 1, 0), (m,), ())), m, l)), i, j, k)))), MyTuple(mu, n), MyTuple(nu, l)), MyMul(1/2, MyAdd(PDiff(MyAdd(Frac(MyMul(SupSub(MyTensor(g, 3, 0), (mu, i, l), ()), MyAdd(PDiff(SupSub(MyTensor(b, 3, 1), (nu, j, k), (l,)), SupSub(MyTensor(u, 1, 0), (m,), ())), Negative(PDiff(SupSub(MyTensor(b, 3, 1), (nu, j, k), (m,)), SupSub(MyTensor(u, 1, 0), (l,), ()))))), 2), MyMul(Frac(1, 2), MyAdd(MyMul(SupSub(MyTensor(b, 3, 1), (mu, i, j), (l,)), SupSub(MyTensor(b, 3, 1), (nu, l, k), (m,))), MyMul(-1, SupSub(MyTensor(b, 3, 1), (mu, i, k), (l,)), SupSub(MyTensor(b, 3, 1), (nu, l, j), (m,)))))), SupSub(MyTensor(u, 1, 0), (n,), ())), Negative(MyAdd(Frac(MyMul(SupSub(MyTensor(b, 3, 1), (mu, l, i), (m,)), MyAdd(PDiff(SupSub(MyTensor(b, 3, 1), (nu, j, k), (l,)), SupSub(MyTensor(u, 1, 0), (m,), ())), Negative(PDiff(SupSub(MyTensor(b, 3, 1), (nu, j, k), (m,)), SupSub(MyTensor(u, 1, 0), (l,), ()))))), 2), Frac(MyMul(SupSub(MyTensor(b, 3, 1), (mu, l, j), (m,)), MyAdd(PDiff(SupSub(MyTensor(b, 3, 1), (nu, k, i), (l,)), SupSub(MyTensor(u, 1, 0), (m,), ())), Negative(PDiff(SupSub(MyTensor(b, 3, 1), (nu, k, i), (m,)), SupSub(MyTensor(u, 1, 0), (l,), ()))))), 2), Frac(MyMul(SupSub(MyTensor(b, 3, 1), (mu, l, k), (m,)), MyAdd(PDiff(SupSub(MyTensor(b, 3, 1), (nu, i, j), (l,)), SupSub(MyTensor(u, 1, 0), (m,), ())), Negative(PDiff(SupSub(MyTensor(b, 3, 1), (nu, i, j), (m,)), SupSub(MyTensor(u, 1, 0), (l,), ()))))), 2))), PDiff(MyAdd(Frac(MyMul(SupSub(MyTensor(g, 3, 0), (nu, i, n), ()), MyAdd(PDiff(SupSub(MyTensor(b, 3, 1), (mu, j, k), (n,)), SupSub(MyTensor(u, 1, 0), (m,), ())), Negative(PDiff(SupSub(MyTensor(b, 3, 1), (mu, j, k), (m,)), SupSub(MyTensor(u, 1, 0), (n,), ()))))), 2), MyMul(Frac(1, 2), MyAdd(MyMul(SupSub(MyTensor(b, 3, 1), (nu, i, j), (n,)), SupSub(MyTensor(b, 3, 1), (mu, n, k), (m,))), MyMul(-1, SupSub(MyTensor(b, 3, 1), (nu, i, k), (n,)), SupSub(MyTensor(b, 3, 1), (mu, n, j), (m,)))))), SupSub(MyTensor(u, 1, 0), (l,), ())), Negative(MyAdd(Frac(MyMul(SupSub(MyTensor(b, 3, 1), (nu, n, i), (m,)), MyAdd(PDiff(SupSub(MyTensor(b, 3, 1), (mu, j, k), (n,)), SupSub(MyTensor(u, 1, 0), (m,), ())), Negative(PDiff(SupSub(MyTensor(b, 3, 1), (mu, j, k), (m,)), SupSub(MyTensor(u, 1, 0), (n,), ()))))), 2), Frac(MyMul(SupSub(MyTensor(b, 3, 1), (nu, n, j), (m,)), MyAdd(PDiff(SupSub(MyTensor(b, 3, 1), (mu, k, i), (n,)), SupSub(MyTensor(u, 1, 0), (m,), ())), Negative(PDiff(SupSub(MyTensor(b, 3, 1), (mu, k, i), (m,)), SupSub(MyTensor(u, 1, 0), (n,), ()))))), 2), Frac(MyMul(SupSub(MyTensor(b, 3, 1), (nu, n, k), (m,)), MyAdd(PDiff(SupSub(MyTensor(b, 3, 1), (mu, i, j), (n,)), SupSub(MyTensor(u, 1, 0), (m,), ())), Negative(PDiff(SupSub(MyTensor(b, 3, 1), (mu, i, j), (m,)), SupSub(MyTensor(u, 1, 0), (n,), ()))))), 2))))), MyMatrix((MyMatrix((MyMatrix((MyMatrix((0, 0)), MyMatrix((0, 0)))), MyMatrix((MyMatrix((0, 0)), MyMatrix((0, 0)))))), MyMatrix((MyMatrix((MyMatrix((0, 0)), MyMatrix((0, 0)))), MyMatrix((MyMatrix((0, 0)), MyMatrix((0, 0)))))))))"
      ]
     },
     "metadata": {},
     "output_type": "display_data"
    },
    {
     "data": {
      "text/markdown": [
       "## Ansatz 2\n",
       "Inserting the following ansatz:"
      ],
      "text/plain": [
       "<IPython.core.display.Markdown object>"
      ]
     },
     "metadata": {},
     "output_type": "display_data"
    },
    {
     "data": {
      "text/latex": [
       "$\\displaystyle {g}^{2, 2}_{} \\rightarrow -{g}^{1, 1}_{}, {b}^{2, 2}_{} \\rightarrow -{b}^{1, 1}_{}, {b}^{1, 2}_{} \\rightarrow {b}^{1, 1}_{}, \\frac{\\partial {b}^{1, 1}_{}}{\\partial {u}^{i}_{}} \\rightarrow \\frac{\\partial {b}^{1, 1}_{}}{\\partial {u}^{1}_{}}, \\frac{\\partial^{2} {b}^{1, 1}_{}}{\\partial {u}^{i}_{} \\partial {u}^{j}_{}} \\rightarrow \\frac{\\partial^{2} {b}^{1, 1}_{}}{\\partial {u}^{1}_{} \\partial {u}^{1}_{}}$"
      ],
      "text/plain": [
       "Rep({PDiff(SupSub(MyTensor(b, 2, 1), (1, 1), ()), SupSub(MyTensor(u, 1, 0), (i_,), ())): PDiff(SupSub(MyTensor(b, 2, 1), (1, 1), ()), SupSub(MyTensor(u, 1, 0), (1,), ())), PDiff(SupSub(MyTensor(b, 2, 1), (1, 1), ()), SupSub(MyTensor(u, 1, 0), (i_,), ()), SupSub(MyTensor(u, 1, 0), (j_,), ())): PDiff(SupSub(MyTensor(b, 2, 1), (1, 1), ()), SupSub(MyTensor(u, 1, 0), (1,), ()), SupSub(MyTensor(u, 1, 0), (1,), ())), SupSub(MyTensor(b, 2, 1), (1, 2), ()): SupSub(MyTensor(b, 2, 1), (1, 1), ()), SupSub(MyTensor(b, 2, 1), (2, 2), ()): Negative(SupSub(MyTensor(b, 2, 1), (1, 1), ())), SupSub(MyTensor(g, 2, 0), (2, 2), ()): Negative(SupSub(MyTensor(g, 2, 0), (1, 1), ()))})"
      ]
     },
     "metadata": {},
     "output_type": "display_data"
    },
    {
     "data": {
      "text/markdown": [
       "### Ansatz 2, Equation 1"
      ],
      "text/plain": [
       "<IPython.core.display.Markdown object>"
      ]
     },
     "metadata": {},
     "output_type": "display_data"
    },
    {
     "data": {
      "text/latex": [
       "$\\displaystyle {{\\left[{g}^{\\mu, i, j}_{}\\right]}_{\\left[i, j\\right]}} = {{\\frac{1}{2}}   {\\left({g}^{\\mu, i, j}_{}-{g}^{\\mu, j, i}_{}\\right)}} = {\\begin{bmatrix}\\begin{bmatrix}0&0\\\\0&0\\end{bmatrix}&\\begin{bmatrix}0&0\\\\0&0\\end{bmatrix}\\\\\\begin{bmatrix}0&0\\\\0&0\\end{bmatrix}&\\begin{bmatrix}0&0\\\\0&0\\end{bmatrix}\\end{bmatrix}}$"
      ],
      "text/plain": [
       "Eq(ASymm(SupSub(MyTensor(g, 3, 0), (mu, i, j), ()), i, j), MyMul(1/2, MyAdd(SupSub(MyTensor(g, 3, 0), (mu, i, j), ()), Negative(SupSub(MyTensor(g, 3, 0), (mu, j, i), ())))), MyMatrix((MyMatrix((MyMatrix((MyMatrix((0, 0)), MyMatrix((0, 0)))), MyMatrix((MyMatrix((0, 0)), MyMatrix((0, 0)))))), MyMatrix((MyMatrix((MyMatrix((0, 0)), MyMatrix((0, 0)))), MyMatrix((MyMatrix((0, 0)), MyMatrix((0, 0)))))))))"
      ]
     },
     "metadata": {},
     "output_type": "display_data"
    },
    {
     "data": {
      "text/markdown": [
       "### Ansatz 2, Equation 2"
      ],
      "text/plain": [
       "<IPython.core.display.Markdown object>"
      ]
     },
     "metadata": {},
     "output_type": "display_data"
    },
    {
     "data": {
      "text/latex": [
       "$\\displaystyle {\\frac{\\partial {g}^{\\mu, i, j}_{}}{\\partial {u}^{k}_{}} + {-2}   {{\\left[{b}^{\\mu, i, j}_{k}\\right]}_{\\left(i, j\\right)}}} = {\\frac{\\partial {g}^{\\mu, i, j}_{}}{\\partial {u}^{k}_{}} + {-1}   {\\left({b}^{\\mu, i, j}_{k} + {b}^{\\mu, j, i}_{k}\\right)}} = {\\begin{bmatrix}\\begin{bmatrix}0&0\\\\0&0\\end{bmatrix}&\\begin{bmatrix}0&0\\\\0&0\\end{bmatrix}\\\\\\begin{bmatrix}0&0\\\\0&0\\end{bmatrix}&\\begin{bmatrix}0&0\\\\0&0\\end{bmatrix}\\end{bmatrix}}$"
      ],
      "text/plain": [
       "Eq(MyAdd(PDiff(SupSub(MyTensor(g, 3, 0), (mu, i, j), ()), SupSub(MyTensor(u, 1, 0), (k,), ())), MyMul(-2, Symm(SupSub(MyTensor(b, 3, 1), (mu, i, j), (k,)), i, j))), MyAdd(PDiff(SupSub(MyTensor(g, 3, 0), (mu, i, j), ()), SupSub(MyTensor(u, 1, 0), (k,), ())), MyMul(-1, MyAdd(SupSub(MyTensor(b, 3, 1), (mu, i, j), (k,)), SupSub(MyTensor(b, 3, 1), (mu, j, i), (k,))))), MyMatrix((MyMatrix((MyMatrix((MyMatrix((0, 0)), MyMatrix((0, 0)))), MyMatrix((MyMatrix((0, 0)), MyMatrix((0, 0)))))), MyMatrix((MyMatrix((MyMatrix((0, 0)), MyMatrix((0, 0)))), MyMatrix((MyMatrix((0, 0)), MyMatrix((0, 0)))))))))"
      ]
     },
     "metadata": {},
     "output_type": "display_data"
    },
    {
     "data": {
      "text/markdown": [
       "### Ansatz 2, Equation 3"
      ],
      "text/plain": [
       "<IPython.core.display.Markdown object>"
      ]
     },
     "metadata": {},
     "output_type": "display_data"
    },
    {
     "data": {
      "text/latex": [
       "$\\displaystyle {{\\left[{\\left[{{g}^{\\mu, i, l}_{}}   {{b}^{\\nu, j, k}_{l}}\\right]}_{\\left[i, j\\right]}\\right]}_{\\left(\\mu, \\nu\\right)}} = {{\\frac{1}{4}}   {\\left({{g}^{\\mu, i, l}_{}}   {{b}^{\\nu, j, k}_{l}} + {-1}   {{g}^{\\mu, j, l}_{}}   {{b}^{\\nu, i, k}_{l}} + {{g}^{\\nu, i, l}_{}}   {{b}^{\\mu, j, k}_{l}} + {-1}   {{g}^{\\nu, j, l}_{}}   {{b}^{\\mu, i, k}_{l}}\\right)}} = {\\begin{bmatrix}\\begin{bmatrix}0&0\\\\0&0\\end{bmatrix}&\\begin{bmatrix}0&0\\\\0&0\\end{bmatrix}\\\\\\begin{bmatrix}0&0\\\\0&0\\end{bmatrix}&\\begin{bmatrix}0&0\\\\0&0\\end{bmatrix}\\end{bmatrix}}$"
      ],
      "text/plain": [
       "Eq(Symm(ASymm(MyMul(SupSub(MyTensor(g, 3, 0), (mu, i, l), ()), SupSub(MyTensor(b, 3, 1), (nu, j, k), (l,))), i, j), mu, nu), MyMul(1/4, MyAdd(MyMul(SupSub(MyTensor(g, 3, 0), (mu, i, l), ()), SupSub(MyTensor(b, 3, 1), (nu, j, k), (l,))), MyMul(-1, SupSub(MyTensor(g, 3, 0), (mu, j, l), ()), SupSub(MyTensor(b, 3, 1), (nu, i, k), (l,))), MyMul(SupSub(MyTensor(g, 3, 0), (nu, i, l), ()), SupSub(MyTensor(b, 3, 1), (mu, j, k), (l,))), MyMul(-1, SupSub(MyTensor(g, 3, 0), (nu, j, l), ()), SupSub(MyTensor(b, 3, 1), (mu, i, k), (l,))))), MyMatrix((MyMatrix((MyMatrix((MyMatrix((0, 0)), MyMatrix((0, 0)))), MyMatrix((MyMatrix((0, 0)), MyMatrix((0, 0)))))), MyMatrix((MyMatrix((MyMatrix((0, 0)), MyMatrix((0, 0)))), MyMatrix((MyMatrix((0, 0)), MyMatrix((0, 0)))))))))"
      ]
     },
     "metadata": {},
     "output_type": "display_data"
    },
    {
     "data": {
      "text/markdown": [
       "### Ansatz 2, Equation 4"
      ],
      "text/plain": [
       "<IPython.core.display.Markdown object>"
      ]
     },
     "metadata": {},
     "output_type": "display_data"
    },
    {
     "data": {
      "text/latex": [
       "$\\displaystyle {{\\left[{\\left[{{g}^{\\mu, i, l}_{}}   {{b}^{\\nu, j, k}_{l}}\\right]}_{\\left[\\left(i, \\mu\\right), \\left(j, \\nu\\right)\\right]}\\right]}_{\\circlearrowright i, j, k}} = {{\\frac{1}{2}}   {\\left({{g}^{\\mu, i, l}_{}}   {{b}^{\\nu, j, k}_{l}} + {-1}   {{g}^{\\nu, j, l}_{}}   {{b}^{\\mu, i, k}_{l}} + {{g}^{\\mu, j, l}_{}}   {{b}^{\\nu, k, i}_{l}} + {-1}   {{g}^{\\nu, k, l}_{}}   {{b}^{\\mu, j, i}_{l}} + {{g}^{\\mu, k, l}_{}}   {{b}^{\\nu, i, j}_{l}} + {-1}   {{g}^{\\nu, i, l}_{}}   {{b}^{\\mu, k, j}_{l}}\\right)}} = {\\begin{bmatrix}\\begin{bmatrix}0&0\\\\0&0\\end{bmatrix}&\\begin{bmatrix}0&0\\\\0&0\\end{bmatrix}\\\\\\begin{bmatrix}0&0\\\\0&0\\end{bmatrix}&\\begin{bmatrix}0&0\\\\0&0\\end{bmatrix}\\end{bmatrix}}$"
      ],
      "text/plain": [
       "Eq(Cycler(ASymm(MyMul(SupSub(MyTensor(g, 3, 0), (mu, i, l), ()), SupSub(MyTensor(b, 3, 1), (nu, j, k), (l,))), MyTuple(i, mu), MyTuple(j, nu)), i, j, k), MyMul(1/2, MyAdd(MyMul(SupSub(MyTensor(g, 3, 0), (mu, i, l), ()), SupSub(MyTensor(b, 3, 1), (nu, j, k), (l,))), MyMul(-1, SupSub(MyTensor(g, 3, 0), (nu, j, l), ()), SupSub(MyTensor(b, 3, 1), (mu, i, k), (l,))), MyMul(SupSub(MyTensor(g, 3, 0), (mu, j, l), ()), SupSub(MyTensor(b, 3, 1), (nu, k, i), (l,))), MyMul(-1, SupSub(MyTensor(g, 3, 0), (nu, k, l), ()), SupSub(MyTensor(b, 3, 1), (mu, j, i), (l,))), MyMul(SupSub(MyTensor(g, 3, 0), (mu, k, l), ()), SupSub(MyTensor(b, 3, 1), (nu, i, j), (l,))), MyMul(-1, SupSub(MyTensor(g, 3, 0), (nu, i, l), ()), SupSub(MyTensor(b, 3, 1), (mu, k, j), (l,))))), MyMatrix((MyMatrix((MyMatrix((MyMatrix((0, 0)), MyMatrix((0, 0)))), MyMatrix((MyMatrix((0, 0)), MyMatrix((0, 0)))))), MyMatrix((MyMatrix((MyMatrix((0, 0)), MyMatrix((0, 0)))), MyMatrix((MyMatrix((0, 0)), MyMatrix((0, 0)))))))))"
      ]
     },
     "metadata": {},
     "output_type": "display_data"
    },
    {
     "data": {
      "text/markdown": [
       "### Ansatz 2, Equation 5"
      ],
      "text/plain": [
       "<IPython.core.display.Markdown object>"
      ]
     },
     "metadata": {},
     "output_type": "display_data"
    },
    {
     "data": {
      "text/latex": [
       "$\\displaystyle {{\\left[{{g}^{\\mu, i, l}_{}}   {{\\left[\\frac{\\partial {b}^{\\nu, j, k}_{l}}{\\partial {u}^{m}_{}}\\right]}_{\\left[m, l\\right]}}-{\\left[{{b}^{\\nu, i, k}_{l}}   {{b}^{\\mu, l, j}_{m}}\\right]}_{\\left[j, k\\right]}\\right]}_{\\left(\\mu, \\nu\\right)}} = {{\\frac{1}{2}}   {\\left(\\frac{{{g}^{\\mu, i, l}_{}}   {\\left(\\frac{\\partial {b}^{\\nu, j, k}_{l}}{\\partial {u}^{m}_{}}-\\frac{\\partial {b}^{\\nu, j, k}_{m}}{\\partial {u}^{l}_{}}\\right)}}{2} + {- \\frac{1}{2}}   {\\left({{b}^{\\nu, i, k}_{l}}   {{b}^{\\mu, l, j}_{m}} + {-1}   {{b}^{\\nu, i, j}_{l}}   {{b}^{\\mu, l, k}_{m}}\\right)} + \\frac{{{g}^{\\nu, i, l}_{}}   {\\left(\\frac{\\partial {b}^{\\mu, j, k}_{l}}{\\partial {u}^{m}_{}}-\\frac{\\partial {b}^{\\mu, j, k}_{m}}{\\partial {u}^{l}_{}}\\right)}}{2} + {- \\frac{1}{2}}   {\\left({{b}^{\\mu, i, k}_{l}}   {{b}^{\\nu, l, j}_{m}} + {-1}   {{b}^{\\mu, i, j}_{l}}   {{b}^{\\nu, l, k}_{m}}\\right)}\\right)}} = {\\begin{bmatrix}\\begin{bmatrix}0&0\\\\0&0\\end{bmatrix}&\\begin{bmatrix}0&0\\\\0&0\\end{bmatrix}\\\\\\begin{bmatrix}0&0\\\\0&0\\end{bmatrix}&\\begin{bmatrix}0&0\\\\0&0\\end{bmatrix}\\end{bmatrix}}$"
      ],
      "text/plain": [
       "Eq(Symm(Protect(MyAdd(MyMul(SupSub(MyTensor(g, 3, 0), (mu, i, l), ()), ASymm(PDiff(SupSub(MyTensor(b, 3, 1), (nu, j, k), (l,)), SupSub(MyTensor(u, 1, 0), (m,), ())), m, l)), Negative(ASymm(MyMul(SupSub(MyTensor(b, 3, 1), (nu, i, k), (l,)), SupSub(MyTensor(b, 3, 1), (mu, l, j), (m,))), j, k)))), mu, nu), MyMul(1/2, MyAdd(Frac(MyMul(SupSub(MyTensor(g, 3, 0), (mu, i, l), ()), MyAdd(PDiff(SupSub(MyTensor(b, 3, 1), (nu, j, k), (l,)), SupSub(MyTensor(u, 1, 0), (m,), ())), Negative(PDiff(SupSub(MyTensor(b, 3, 1), (nu, j, k), (m,)), SupSub(MyTensor(u, 1, 0), (l,), ()))))), 2), MyMul(-1/2, MyAdd(MyMul(SupSub(MyTensor(b, 3, 1), (nu, i, k), (l,)), SupSub(MyTensor(b, 3, 1), (mu, l, j), (m,))), MyMul(-1, SupSub(MyTensor(b, 3, 1), (nu, i, j), (l,)), SupSub(MyTensor(b, 3, 1), (mu, l, k), (m,))))), Frac(MyMul(SupSub(MyTensor(g, 3, 0), (nu, i, l), ()), MyAdd(PDiff(SupSub(MyTensor(b, 3, 1), (mu, j, k), (l,)), SupSub(MyTensor(u, 1, 0), (m,), ())), Negative(PDiff(SupSub(MyTensor(b, 3, 1), (mu, j, k), (m,)), SupSub(MyTensor(u, 1, 0), (l,), ()))))), 2), MyMul(-1/2, MyAdd(MyMul(SupSub(MyTensor(b, 3, 1), (mu, i, k), (l,)), SupSub(MyTensor(b, 3, 1), (nu, l, j), (m,))), MyMul(-1, SupSub(MyTensor(b, 3, 1), (mu, i, j), (l,)), SupSub(MyTensor(b, 3, 1), (nu, l, k), (m,))))))), MyMatrix((MyMatrix((MyMatrix((MyMatrix((0, 0)), MyMatrix((0, 0)))), MyMatrix((MyMatrix((0, 0)), MyMatrix((0, 0)))))), MyMatrix((MyMatrix((MyMatrix((0, 0)), MyMatrix((0, 0)))), MyMatrix((MyMatrix((0, 0)), MyMatrix((0, 0)))))))))"
      ]
     },
     "metadata": {},
     "output_type": "display_data"
    },
    {
     "data": {
      "text/markdown": [
       "### Ansatz 2, Equation 6"
      ],
      "text/plain": [
       "<IPython.core.display.Markdown object>"
      ]
     },
     "metadata": {},
     "output_type": "display_data"
    },
    {
     "data": {
      "text/latex": [
       "$\\displaystyle {{\\left[{{g}^{\\mu, i, l}_{}}   {\\frac{\\partial {b}^{\\nu, j, k}_{m}}{\\partial {u}^{l}_{}}} + {{b}^{\\nu, j, i}_{l}}   {{b}^{\\mu, l, k}_{m}} + {{b}^{\\nu, j, k}_{l}}   {{b}^{\\mu, i, l}_{m}}\\right]}_{\\left[\\left(i, \\mu\\right), \\left(j, \\nu\\right)\\right]}} = {{\\frac{1}{2}}   {\\left({{g}^{\\mu, i, l}_{}}   {\\frac{\\partial {b}^{\\nu, j, k}_{m}}{\\partial {u}^{l}_{}}} + {{b}^{\\nu, j, i}_{l}}   {{b}^{\\mu, l, k}_{m}} + {{b}^{\\nu, j, k}_{l}}   {{b}^{\\mu, i, l}_{m}}-\\left({{g}^{\\nu, j, l}_{}}   {\\frac{\\partial {b}^{\\mu, i, k}_{m}}{\\partial {u}^{l}_{}}} + {{b}^{\\mu, i, j}_{l}}   {{b}^{\\nu, l, k}_{m}} + {{b}^{\\mu, i, k}_{l}}   {{b}^{\\nu, j, l}_{m}}\\right)\\right)}} = {\\begin{bmatrix}\\begin{bmatrix}0&0\\\\0&0\\end{bmatrix}&\\begin{bmatrix}0&0\\\\0&0\\end{bmatrix}\\\\\\begin{bmatrix}0&0\\\\0&0\\end{bmatrix}&\\begin{bmatrix}0&0\\\\0&0\\end{bmatrix}\\end{bmatrix}}$"
      ],
      "text/plain": [
       "Eq(ASymm(Protect(MyAdd(MyMul(SupSub(MyTensor(g, 3, 0), (mu, i, l), ()), PDiff(SupSub(MyTensor(b, 3, 1), (nu, j, k), (m,)), SupSub(MyTensor(u, 1, 0), (l,), ()))), MyMul(SupSub(MyTensor(b, 3, 1), (nu, j, i), (l,)), SupSub(MyTensor(b, 3, 1), (mu, l, k), (m,))), MyMul(SupSub(MyTensor(b, 3, 1), (nu, j, k), (l,)), SupSub(MyTensor(b, 3, 1), (mu, i, l), (m,))))), MyTuple(i, mu), MyTuple(j, nu)), MyMul(1/2, MyAdd(MyMul(SupSub(MyTensor(g, 3, 0), (mu, i, l), ()), PDiff(SupSub(MyTensor(b, 3, 1), (nu, j, k), (m,)), SupSub(MyTensor(u, 1, 0), (l,), ()))), MyMul(SupSub(MyTensor(b, 3, 1), (nu, j, i), (l,)), SupSub(MyTensor(b, 3, 1), (mu, l, k), (m,))), MyMul(SupSub(MyTensor(b, 3, 1), (nu, j, k), (l,)), SupSub(MyTensor(b, 3, 1), (mu, i, l), (m,))), Negative(MyAdd(MyMul(SupSub(MyTensor(g, 3, 0), (nu, j, l), ()), PDiff(SupSub(MyTensor(b, 3, 1), (mu, i, k), (m,)), SupSub(MyTensor(u, 1, 0), (l,), ()))), MyMul(SupSub(MyTensor(b, 3, 1), (mu, i, j), (l,)), SupSub(MyTensor(b, 3, 1), (nu, l, k), (m,))), MyMul(SupSub(MyTensor(b, 3, 1), (mu, i, k), (l,)), SupSub(MyTensor(b, 3, 1), (nu, j, l), (m,))))))), MyMatrix((MyMatrix((MyMatrix((MyMatrix((0, 0)), MyMatrix((0, 0)))), MyMatrix((MyMatrix((0, 0)), MyMatrix((0, 0)))))), MyMatrix((MyMatrix((MyMatrix((0, 0)), MyMatrix((0, 0)))), MyMatrix((MyMatrix((0, 0)), MyMatrix((0, 0)))))))))"
      ]
     },
     "metadata": {},
     "output_type": "display_data"
    },
    {
     "data": {
      "text/markdown": [
       "### Ansatz 2, Equation 7"
      ],
      "text/plain": [
       "<IPython.core.display.Markdown object>"
      ]
     },
     "metadata": {},
     "output_type": "display_data"
    },
    {
     "data": {
      "text/latex": [
       "$\\displaystyle {{\\left[\\frac{\\partial}{\\partial {u}^{n}_{}}\\left({{g}^{\\mu, i, l}_{}}   {{\\left[\\frac{\\partial {b}^{\\nu, j, k}_{l}}{\\partial {u}^{m}_{}}\\right]}_{\\left[m, l\\right]}} + {\\left[{{b}^{\\mu, i, j}_{l}}   {{b}^{\\nu, l, k}_{m}}\\right]}_{\\left[j, k\\right]}\\right)-{\\left[{{b}^{\\mu, l, i}_{m}}   {{\\left[\\frac{\\partial {b}^{\\nu, j, k}_{l}}{\\partial {u}^{m}_{}}\\right]}_{\\left[m, l\\right]}}\\right]}_{\\circlearrowright i, j, k}\\right]}_{\\left(\\left(\\mu, n\\right), \\left(\\nu, l\\right)\\right)}} = {{\\frac{1}{2}}   {\\left(\\frac{\\partial}{\\partial {u}^{n}_{}}\\left(\\frac{{{g}^{\\mu, i, l}_{}}   {\\left(\\frac{\\partial {b}^{\\nu, j, k}_{l}}{\\partial {u}^{m}_{}}-\\frac{\\partial {b}^{\\nu, j, k}_{m}}{\\partial {u}^{l}_{}}\\right)}}{2} + {\\frac{1}{2}}   {\\left({{b}^{\\mu, i, j}_{l}}   {{b}^{\\nu, l, k}_{m}} + {-1}   {{b}^{\\mu, i, k}_{l}}   {{b}^{\\nu, l, j}_{m}}\\right)}\\right)-\\left(\\frac{{{b}^{\\mu, l, i}_{m}}   {\\left(\\frac{\\partial {b}^{\\nu, j, k}_{l}}{\\partial {u}^{m}_{}}-\\frac{\\partial {b}^{\\nu, j, k}_{m}}{\\partial {u}^{l}_{}}\\right)}}{2} + \\frac{{{b}^{\\mu, l, j}_{m}}   {\\left(\\frac{\\partial {b}^{\\nu, k, i}_{l}}{\\partial {u}^{m}_{}}-\\frac{\\partial {b}^{\\nu, k, i}_{m}}{\\partial {u}^{l}_{}}\\right)}}{2} + \\frac{{{b}^{\\mu, l, k}_{m}}   {\\left(\\frac{\\partial {b}^{\\nu, i, j}_{l}}{\\partial {u}^{m}_{}}-\\frac{\\partial {b}^{\\nu, i, j}_{m}}{\\partial {u}^{l}_{}}\\right)}}{2}\\right) + \\frac{\\partial}{\\partial {u}^{l}_{}}\\left(\\frac{{{g}^{\\nu, i, n}_{}}   {\\left(\\frac{\\partial {b}^{\\mu, j, k}_{n}}{\\partial {u}^{m}_{}}-\\frac{\\partial {b}^{\\mu, j, k}_{m}}{\\partial {u}^{n}_{}}\\right)}}{2} + {\\frac{1}{2}}   {\\left({{b}^{\\nu, i, j}_{n}}   {{b}^{\\mu, n, k}_{m}} + {-1}   {{b}^{\\nu, i, k}_{n}}   {{b}^{\\mu, n, j}_{m}}\\right)}\\right)-\\left(\\frac{{{b}^{\\nu, n, i}_{m}}   {\\left(\\frac{\\partial {b}^{\\mu, j, k}_{n}}{\\partial {u}^{m}_{}}-\\frac{\\partial {b}^{\\mu, j, k}_{m}}{\\partial {u}^{n}_{}}\\right)}}{2} + \\frac{{{b}^{\\nu, n, j}_{m}}   {\\left(\\frac{\\partial {b}^{\\mu, k, i}_{n}}{\\partial {u}^{m}_{}}-\\frac{\\partial {b}^{\\mu, k, i}_{m}}{\\partial {u}^{n}_{}}\\right)}}{2} + \\frac{{{b}^{\\nu, n, k}_{m}}   {\\left(\\frac{\\partial {b}^{\\mu, i, j}_{n}}{\\partial {u}^{m}_{}}-\\frac{\\partial {b}^{\\mu, i, j}_{m}}{\\partial {u}^{n}_{}}\\right)}}{2}\\right)\\right)}} = {\\begin{bmatrix}\\begin{bmatrix}0&0\\\\0&0\\end{bmatrix}&\\begin{bmatrix}0&0\\\\0&0\\end{bmatrix}\\\\\\begin{bmatrix}0&0\\\\0&0\\end{bmatrix}&\\begin{bmatrix}0&0\\\\0&0\\end{bmatrix}\\end{bmatrix}}$"
      ],
      "text/plain": [
       "Eq(Symm(Protect(MyAdd(PDiff(MyAdd(MyMul(SupSub(MyTensor(g, 3, 0), (mu, i, l), ()), ASymm(PDiff(SupSub(MyTensor(b, 3, 1), (nu, j, k), (l,)), SupSub(MyTensor(u, 1, 0), (m,), ())), m, l)), ASymm(MyMul(SupSub(MyTensor(b, 3, 1), (mu, i, j), (l,)), SupSub(MyTensor(b, 3, 1), (nu, l, k), (m,))), j, k)), SupSub(MyTensor(u, 1, 0), (n,), ())), Negative(Cycler(MyMul(SupSub(MyTensor(b, 3, 1), (mu, l, i), (m,)), ASymm(PDiff(SupSub(MyTensor(b, 3, 1), (nu, j, k), (l,)), SupSub(MyTensor(u, 1, 0), (m,), ())), m, l)), i, j, k)))), MyTuple(mu, n), MyTuple(nu, l)), MyMul(1/2, MyAdd(PDiff(MyAdd(Frac(MyMul(SupSub(MyTensor(g, 3, 0), (mu, i, l), ()), MyAdd(PDiff(SupSub(MyTensor(b, 3, 1), (nu, j, k), (l,)), SupSub(MyTensor(u, 1, 0), (m,), ())), Negative(PDiff(SupSub(MyTensor(b, 3, 1), (nu, j, k), (m,)), SupSub(MyTensor(u, 1, 0), (l,), ()))))), 2), MyMul(Frac(1, 2), MyAdd(MyMul(SupSub(MyTensor(b, 3, 1), (mu, i, j), (l,)), SupSub(MyTensor(b, 3, 1), (nu, l, k), (m,))), MyMul(-1, SupSub(MyTensor(b, 3, 1), (mu, i, k), (l,)), SupSub(MyTensor(b, 3, 1), (nu, l, j), (m,)))))), SupSub(MyTensor(u, 1, 0), (n,), ())), Negative(MyAdd(Frac(MyMul(SupSub(MyTensor(b, 3, 1), (mu, l, i), (m,)), MyAdd(PDiff(SupSub(MyTensor(b, 3, 1), (nu, j, k), (l,)), SupSub(MyTensor(u, 1, 0), (m,), ())), Negative(PDiff(SupSub(MyTensor(b, 3, 1), (nu, j, k), (m,)), SupSub(MyTensor(u, 1, 0), (l,), ()))))), 2), Frac(MyMul(SupSub(MyTensor(b, 3, 1), (mu, l, j), (m,)), MyAdd(PDiff(SupSub(MyTensor(b, 3, 1), (nu, k, i), (l,)), SupSub(MyTensor(u, 1, 0), (m,), ())), Negative(PDiff(SupSub(MyTensor(b, 3, 1), (nu, k, i), (m,)), SupSub(MyTensor(u, 1, 0), (l,), ()))))), 2), Frac(MyMul(SupSub(MyTensor(b, 3, 1), (mu, l, k), (m,)), MyAdd(PDiff(SupSub(MyTensor(b, 3, 1), (nu, i, j), (l,)), SupSub(MyTensor(u, 1, 0), (m,), ())), Negative(PDiff(SupSub(MyTensor(b, 3, 1), (nu, i, j), (m,)), SupSub(MyTensor(u, 1, 0), (l,), ()))))), 2))), PDiff(MyAdd(Frac(MyMul(SupSub(MyTensor(g, 3, 0), (nu, i, n), ()), MyAdd(PDiff(SupSub(MyTensor(b, 3, 1), (mu, j, k), (n,)), SupSub(MyTensor(u, 1, 0), (m,), ())), Negative(PDiff(SupSub(MyTensor(b, 3, 1), (mu, j, k), (m,)), SupSub(MyTensor(u, 1, 0), (n,), ()))))), 2), MyMul(Frac(1, 2), MyAdd(MyMul(SupSub(MyTensor(b, 3, 1), (nu, i, j), (n,)), SupSub(MyTensor(b, 3, 1), (mu, n, k), (m,))), MyMul(-1, SupSub(MyTensor(b, 3, 1), (nu, i, k), (n,)), SupSub(MyTensor(b, 3, 1), (mu, n, j), (m,)))))), SupSub(MyTensor(u, 1, 0), (l,), ())), Negative(MyAdd(Frac(MyMul(SupSub(MyTensor(b, 3, 1), (nu, n, i), (m,)), MyAdd(PDiff(SupSub(MyTensor(b, 3, 1), (mu, j, k), (n,)), SupSub(MyTensor(u, 1, 0), (m,), ())), Negative(PDiff(SupSub(MyTensor(b, 3, 1), (mu, j, k), (m,)), SupSub(MyTensor(u, 1, 0), (n,), ()))))), 2), Frac(MyMul(SupSub(MyTensor(b, 3, 1), (nu, n, j), (m,)), MyAdd(PDiff(SupSub(MyTensor(b, 3, 1), (mu, k, i), (n,)), SupSub(MyTensor(u, 1, 0), (m,), ())), Negative(PDiff(SupSub(MyTensor(b, 3, 1), (mu, k, i), (m,)), SupSub(MyTensor(u, 1, 0), (n,), ()))))), 2), Frac(MyMul(SupSub(MyTensor(b, 3, 1), (nu, n, k), (m,)), MyAdd(PDiff(SupSub(MyTensor(b, 3, 1), (mu, i, j), (n,)), SupSub(MyTensor(u, 1, 0), (m,), ())), Negative(PDiff(SupSub(MyTensor(b, 3, 1), (mu, i, j), (m,)), SupSub(MyTensor(u, 1, 0), (n,), ()))))), 2))))), MyMatrix((MyMatrix((MyMatrix((MyMatrix((0, 0)), MyMatrix((0, 0)))), MyMatrix((MyMatrix((0, 0)), MyMatrix((0, 0)))))), MyMatrix((MyMatrix((MyMatrix((0, 0)), MyMatrix((0, 0)))), MyMatrix((MyMatrix((0, 0)), MyMatrix((0, 0)))))))))"
      ]
     },
     "metadata": {},
     "output_type": "display_data"
    }
   ],
   "source": [
    "nn = 2\n",
    "for jj, ansatz in enumerate(ansatzes):\n",
    "    display(Markdown(f\"## Ansatz {jj+1}\\nInserting the following ansatz:\"))\n",
    "    display(Rep(ansatz))\n",
    "    for ii in range(len(hydro.jacobi_eqs.args)):\n",
    "        display(Markdown(f\"### Ansatz {jj+1}, Equation {ii+1}\"))\n",
    "        eq0 = hydro.jacobi_eqs.args[ii].rhs\n",
    "        eq1 = eq0.doit().doit()\n",
    "        eq2 = gMatrix(\n",
    "            gSum(\n",
    "                eq1,\n",
    "                (l, nn),\n",
    "                (n, nn)\n",
    "            ),\n",
    "            (i, nn),\n",
    "            (j, nn),\n",
    "            (k, nn),\n",
    "            (m, nn)\n",
    "        ) >> {\n",
    "            g[mu_, i_, j_]: g1[i_, j_],\n",
    "            b[mu_, i_, j_, k_]: b1[i_, j_, k_]\n",
    "        } >> {\n",
    "            g1[1,2]: 0, g1[2,1]: 0, b1[2,1,i_]:-b1[1,2,i_],\n",
    "            g1[i_,i_].d(u[j_]): 2*b1[i_,i_,j_]\n",
    "        } >> {\n",
    "            b1[i_,j_,k_]: b1[i_,j_].d(u[k_])\n",
    "        } << RRep(ansatz) >> {PDiff(i_, u[2], u[1]): PDiff(i_, u[1], u[2])} >> Distribute\n",
    "        display(\n",
    "            Eq(eq0, eq1, eq2)\n",
    "        )\n"
   ]
  },
  {
   "cell_type": "code",
   "execution_count": null,
   "metadata": {},
   "outputs": [],
   "source": []
  }
 ],
 "metadata": {
  "kernelspec": {
   "display_name": "Python 3",
   "language": "python",
   "name": "python3"
  },
  "language_info": {
   "codemirror_mode": {
    "name": "ipython",
    "version": 3
   },
   "file_extension": ".py",
   "mimetype": "text/x-python",
   "name": "python",
   "nbconvert_exporter": "python",
   "pygments_lexer": "ipython3",
   "version": "3.6.7"
  },
  "toc": {
   "base_numbering": 1,
   "nav_menu": {},
   "number_sections": true,
   "sideBar": true,
   "skip_h1_title": false,
   "title_cell": "Table of Contents",
   "title_sidebar": "Contents",
   "toc_cell": false,
   "toc_position": {},
   "toc_section_display": true,
   "toc_window_display": false
  },
  "varInspector": {
   "cols": {
    "lenName": 16,
    "lenType": 16,
    "lenVar": 40
   },
   "kernels_config": {
    "python": {
     "delete_cmd_postfix": "",
     "delete_cmd_prefix": "del ",
     "library": "var_list.py",
     "varRefreshCmd": "print(var_dic_list())"
    },
    "r": {
     "delete_cmd_postfix": ") ",
     "delete_cmd_prefix": "rm(",
     "library": "var_list.r",
     "varRefreshCmd": "cat(var_dic_list()) "
    }
   },
   "types_to_exclude": [
    "module",
    "function",
    "builtin_function_or_method",
    "instance",
    "_Feature"
   ],
   "window_display": false
  }
 },
 "nbformat": 4,
 "nbformat_minor": 2
}
